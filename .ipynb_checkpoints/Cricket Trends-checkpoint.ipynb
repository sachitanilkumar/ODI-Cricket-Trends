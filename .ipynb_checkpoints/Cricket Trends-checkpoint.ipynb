{
 "cells": [
  {
   "cell_type": "markdown",
   "metadata": {},
   "source": [
    "# Visualizing changing trends in ODI cricket - Analysing ball by ball data\n",
    "\n",
    "One Day Internationals have been continously evolving. This analysis aims to look at how the trends in scoring have changed over the past few years (2006 - 2020). The data is obtained from Cricsheet (https://cricsheet.org). For this analysis only men's ODIs are considered due to the smaller sample available from women's ODIs. "
   ]
  },
  {
   "cell_type": "markdown",
   "metadata": {},
   "source": [
    "## 1. Importing Libraries"
   ]
  },
  {
   "cell_type": "code",
   "execution_count": 1311,
   "metadata": {},
   "outputs": [
    {
     "data": {
      "text/html": [
       "<style>body {\n",
       "    margin: 0;\n",
       "    font-family: Avenir;\n",
       "    font-size: 13;\n",
       "}\n",
       "table.dataframe {\n",
       "    border-collapse: collapse;\n",
       "    border: none;\n",
       "}\n",
       "table.dataframe tr {\n",
       "    border: none;\n",
       "}\n",
       "table.dataframe td, table.dataframe th {\n",
       "    margin: 0;\n",
       "    border: 1px grey;\n",
       "    padding-left: 1.50em;\n",
       "    padding-right: 1.50em;\n",
       "    text-align: center;\n",
       "}\n",
       "table.dataframe th:not(:empty) {\n",
       "    background-color: #ffffff;\n",
       "    text-align: center;\n",
       "    font-weight: bold;\n",
       "}\n",
       "table.dataframe tr:nth-child(2) th:empty {\n",
       "    border-left: none;\n",
       "    border-right: 1px dashed #888;\n",
       "}\n",
       "table.dataframe td {\n",
       "    background-color: #ffffff;\n",
       "}\n",
       "h1 {\n",
       "    color: white;\n",
       "    background-color: black;\n",
       "    padding: 0.5em;\n",
       "    text-decoration: underline;\n",
       "}\n",
       "h2 {\n",
       "    color: white;\n",
       "    background-color: black;\n",
       "    padding: 0.5em;\n",
       "}\n",
       "h3 {\n",
       "    color: white;\n",
       "    background-color: grey;\n",
       "    padding: 0.5em;\n",
       "}\n",
       "</style>"
      ],
      "text/plain": [
       "<IPython.core.display.HTML object>"
      ]
     },
     "execution_count": 1311,
     "metadata": {},
     "output_type": "execute_result"
    }
   ],
   "source": [
    "import pandas as pd\n",
    "import numpy as np\n",
    "import matplotlib.pyplot as plt\n",
    "import yaml, json\n",
    "import re\n",
    "\n",
    "import seaborn as sns\n",
    "import plotly.express as px\n",
    "import plotly.graph_objects as go\n",
    "import plotly.figure_factory as ff\n",
    "import plotly.io as pio\n",
    "from plotly.subplots import make_subplots\n",
    "\n",
    "from datetime import datetime\n",
    "from IPython.core.display import HTML\n",
    "\n",
    "from urllib.request import urlopen\n",
    "from bs4 import BeautifulSoup\n",
    "import difflib \n",
    "\n",
    "# set up seaborn\n",
    "sns.set(style=\"whitegrid\")\n",
    "\n",
    "# SettingWithCopyWarning\n",
    "pd.options.mode.chained_assignment = 'warn'\n",
    "\n",
    "# styling the notebook\n",
    "css = open('style/style-table.css').read() + open('style/style-notebook.css').read()\n",
    "HTML('<style>{}</style>'.format(css))"
   ]
  },
  {
   "cell_type": "markdown",
   "metadata": {},
   "source": [
    "## 2. Importing Data\n",
    "### 2.1 Importing list of matches\n",
    "First up, let us import the list of all matches - we will then import the ball by ball details of these matches. "
   ]
  },
  {
   "cell_type": "code",
   "execution_count": 1312,
   "metadata": {
    "scrolled": true
   },
   "outputs": [
    {
     "data": {
      "text/plain": [
       "True"
      ]
     },
     "execution_count": 1312,
     "metadata": {},
     "output_type": "execute_result"
    }
   ],
   "source": [
    "matches_df = pd.read_csv('odis/README.txt', header = None, skiprows = 23, sep = \"-\")\n",
    "matches_df.columns = ['year', 'month', 'day', 'type', 'type_2', 'gender', 'match_id', 'teams']\n",
    "\n",
    "len(matches_df[(matches_df.type == ' international ') & (matches_df.type_2 == ' ODI ')]) == len(matches_df)"
   ]
  },
  {
   "cell_type": "markdown",
   "metadata": {},
   "source": [
    "We can drop both the type and type_2 columns. Also keeping only men's matches and only matches between top teams."
   ]
  },
  {
   "cell_type": "code",
   "execution_count": 1313,
   "metadata": {},
   "outputs": [
    {
     "data": {
      "text/html": [
       "<div>\n",
       "<style scoped>\n",
       "    .dataframe tbody tr th:only-of-type {\n",
       "        vertical-align: middle;\n",
       "    }\n",
       "\n",
       "    .dataframe tbody tr th {\n",
       "        vertical-align: top;\n",
       "    }\n",
       "\n",
       "    .dataframe thead th {\n",
       "        text-align: right;\n",
       "    }\n",
       "</style>\n",
       "<table border=\"1\" class=\"dataframe\">\n",
       "  <thead>\n",
       "    <tr style=\"text-align: right;\">\n",
       "      <th></th>\n",
       "      <th>match_id</th>\n",
       "      <th>team_1</th>\n",
       "      <th>team_2</th>\n",
       "      <th>date</th>\n",
       "      <th>year</th>\n",
       "    </tr>\n",
       "  </thead>\n",
       "  <tbody>\n",
       "    <tr>\n",
       "      <th>0</th>\n",
       "      <td>226391</td>\n",
       "      <td>New Zealand</td>\n",
       "      <td>Sri Lanka</td>\n",
       "      <td>2006-01-03</td>\n",
       "      <td>2006</td>\n",
       "    </tr>\n",
       "    <tr>\n",
       "      <th>1</th>\n",
       "      <td>226392</td>\n",
       "      <td>New Zealand</td>\n",
       "      <td>Sri Lanka</td>\n",
       "      <td>2006-01-06</td>\n",
       "      <td>2006</td>\n",
       "    </tr>\n",
       "    <tr>\n",
       "      <th>2</th>\n",
       "      <td>226375</td>\n",
       "      <td>Australia</td>\n",
       "      <td>South Africa</td>\n",
       "      <td>2006-01-15</td>\n",
       "      <td>2006</td>\n",
       "    </tr>\n",
       "    <tr>\n",
       "      <th>3</th>\n",
       "      <td>226383</td>\n",
       "      <td>South Africa</td>\n",
       "      <td>Sri Lanka</td>\n",
       "      <td>2006-01-17</td>\n",
       "      <td>2006</td>\n",
       "    </tr>\n",
       "    <tr>\n",
       "      <th>4</th>\n",
       "      <td>226376</td>\n",
       "      <td>Australia</td>\n",
       "      <td>South Africa</td>\n",
       "      <td>2006-01-20</td>\n",
       "      <td>2006</td>\n",
       "    </tr>\n",
       "  </tbody>\n",
       "</table>\n",
       "</div>"
      ],
      "text/plain": [
       "   match_id        team_1        team_2       date  year\n",
       "0    226391   New Zealand     Sri Lanka 2006-01-03  2006\n",
       "1    226392   New Zealand     Sri Lanka 2006-01-06  2006\n",
       "2    226375     Australia  South Africa 2006-01-15  2006\n",
       "3    226383  South Africa     Sri Lanka 2006-01-17  2006\n",
       "4    226376     Australia  South Africa 2006-01-20  2006"
      ]
     },
     "execution_count": 1313,
     "metadata": {},
     "output_type": "execute_result"
    }
   ],
   "source": [
    "# keep only mens ODIs\n",
    "matches_df = matches_df[matches_df.gender == ' male ']\n",
    "\n",
    "# convert to datetime\n",
    "matches_df['date'] = matches_df.apply(lambda row: datetime(row['year'], row['month'], row['day']), axis = 1)\n",
    "\n",
    "# split teams\n",
    "coltitle = matches_df['teams'].apply(lambda s: pd.Series({'team_1': s.split(' vs ')[0].strip(),\n",
    "                                                          'team_2': s.split(' vs ')[1].strip()}))\n",
    "matches_df = pd.concat([matches_df, coltitle], axis = 1) \n",
    "\n",
    "# remove matches without top teams\n",
    "top_teams = ['Ireland', 'West Indies', 'India', 'Afghanistan', 'Sri Lanka', 'Pakistan', \n",
    "             'Bangladesh', 'New Zealand', 'England', 'Australia', 'Zimbabwe', 'South Africa']\n",
    "matches_df = matches_df[(matches_df.team_1.isin(top_teams)) & (matches_df.team_2.isin(top_teams))]\n",
    "\n",
    "# drop columns that are not required, ro-order and re-index\n",
    "matches_df = matches_df.loc[::-1]\n",
    "matches_df = matches_df.reset_index()\n",
    "matches_df.drop(['index', 'type', 'type_2', 'gender', 'day', 'month', 'teams'], axis = 1, inplace = True)\n",
    "matches_df = matches_df[['match_id', 'team_1', 'team_2', 'date', 'year']]\n",
    "\n",
    "matches_df.head()"
   ]
  },
  {
   "cell_type": "markdown",
   "metadata": {},
   "source": [
    "Now, let's plot the number of matches per year."
   ]
  },
  {
   "cell_type": "code",
   "execution_count": 1314,
   "metadata": {},
   "outputs": [
    {
     "data": {
      "application/vnd.plotly.v1+json": {
       "config": {
        "plotlyServerURL": "https://plot.ly"
       },
       "data": [
        {
         "hoverinfo": "skip",
         "marker": {
          "color": "#ff7f0e"
         },
         "name": "World Cup Years",
         "text": [
          125,
          117,
          125,
          95
         ],
         "textfont": {
          "color": "white"
         },
         "textposition": "inside",
         "type": "bar",
         "width": 0.8,
         "x": [
          2007,
          2011,
          2015,
          2019
         ],
         "y": [
          125,
          117,
          125,
          95
         ]
        },
        {
         "hoverinfo": "skip",
         "marker": {
          "color": "#1f77b4"
         },
         "name": "Other Years",
         "text": [
          112,
          89,
          112,
          102,
          85,
          118,
          102,
          87,
          77,
          3
         ],
         "textfont": {
          "color": "white"
         },
         "textposition": "inside",
         "type": "bar",
         "width": 0.8,
         "x": [
          2006,
          2008,
          2009,
          2010,
          2012,
          2013,
          2014,
          2016,
          2017,
          2020
         ],
         "y": [
          112,
          89,
          112,
          102,
          85,
          118,
          102,
          87,
          77,
          3
         ]
        }
       ],
       "layout": {
        "template": {
         "data": {
          "bar": [
           {
            "error_x": {
             "color": "#2a3f5f"
            },
            "error_y": {
             "color": "#2a3f5f"
            },
            "marker": {
             "line": {
              "color": "white",
              "width": 0.5
             }
            },
            "type": "bar"
           }
          ],
          "barpolar": [
           {
            "marker": {
             "line": {
              "color": "white",
              "width": 0.5
             }
            },
            "type": "barpolar"
           }
          ],
          "carpet": [
           {
            "aaxis": {
             "endlinecolor": "#2a3f5f",
             "gridcolor": "#C8D4E3",
             "linecolor": "#C8D4E3",
             "minorgridcolor": "#C8D4E3",
             "startlinecolor": "#2a3f5f"
            },
            "baxis": {
             "endlinecolor": "#2a3f5f",
             "gridcolor": "#C8D4E3",
             "linecolor": "#C8D4E3",
             "minorgridcolor": "#C8D4E3",
             "startlinecolor": "#2a3f5f"
            },
            "type": "carpet"
           }
          ],
          "choropleth": [
           {
            "colorbar": {
             "outlinewidth": 0,
             "ticks": ""
            },
            "type": "choropleth"
           }
          ],
          "contour": [
           {
            "colorbar": {
             "outlinewidth": 0,
             "ticks": ""
            },
            "colorscale": [
             [
              0,
              "#0d0887"
             ],
             [
              0.1111111111111111,
              "#46039f"
             ],
             [
              0.2222222222222222,
              "#7201a8"
             ],
             [
              0.3333333333333333,
              "#9c179e"
             ],
             [
              0.4444444444444444,
              "#bd3786"
             ],
             [
              0.5555555555555556,
              "#d8576b"
             ],
             [
              0.6666666666666666,
              "#ed7953"
             ],
             [
              0.7777777777777778,
              "#fb9f3a"
             ],
             [
              0.8888888888888888,
              "#fdca26"
             ],
             [
              1,
              "#f0f921"
             ]
            ],
            "type": "contour"
           }
          ],
          "contourcarpet": [
           {
            "colorbar": {
             "outlinewidth": 0,
             "ticks": ""
            },
            "type": "contourcarpet"
           }
          ],
          "heatmap": [
           {
            "colorbar": {
             "outlinewidth": 0,
             "ticks": ""
            },
            "colorscale": [
             [
              0,
              "#0d0887"
             ],
             [
              0.1111111111111111,
              "#46039f"
             ],
             [
              0.2222222222222222,
              "#7201a8"
             ],
             [
              0.3333333333333333,
              "#9c179e"
             ],
             [
              0.4444444444444444,
              "#bd3786"
             ],
             [
              0.5555555555555556,
              "#d8576b"
             ],
             [
              0.6666666666666666,
              "#ed7953"
             ],
             [
              0.7777777777777778,
              "#fb9f3a"
             ],
             [
              0.8888888888888888,
              "#fdca26"
             ],
             [
              1,
              "#f0f921"
             ]
            ],
            "type": "heatmap"
           }
          ],
          "heatmapgl": [
           {
            "colorbar": {
             "outlinewidth": 0,
             "ticks": ""
            },
            "colorscale": [
             [
              0,
              "#0d0887"
             ],
             [
              0.1111111111111111,
              "#46039f"
             ],
             [
              0.2222222222222222,
              "#7201a8"
             ],
             [
              0.3333333333333333,
              "#9c179e"
             ],
             [
              0.4444444444444444,
              "#bd3786"
             ],
             [
              0.5555555555555556,
              "#d8576b"
             ],
             [
              0.6666666666666666,
              "#ed7953"
             ],
             [
              0.7777777777777778,
              "#fb9f3a"
             ],
             [
              0.8888888888888888,
              "#fdca26"
             ],
             [
              1,
              "#f0f921"
             ]
            ],
            "type": "heatmapgl"
           }
          ],
          "histogram": [
           {
            "marker": {
             "colorbar": {
              "outlinewidth": 0,
              "ticks": ""
             }
            },
            "type": "histogram"
           }
          ],
          "histogram2d": [
           {
            "colorbar": {
             "outlinewidth": 0,
             "ticks": ""
            },
            "colorscale": [
             [
              0,
              "#0d0887"
             ],
             [
              0.1111111111111111,
              "#46039f"
             ],
             [
              0.2222222222222222,
              "#7201a8"
             ],
             [
              0.3333333333333333,
              "#9c179e"
             ],
             [
              0.4444444444444444,
              "#bd3786"
             ],
             [
              0.5555555555555556,
              "#d8576b"
             ],
             [
              0.6666666666666666,
              "#ed7953"
             ],
             [
              0.7777777777777778,
              "#fb9f3a"
             ],
             [
              0.8888888888888888,
              "#fdca26"
             ],
             [
              1,
              "#f0f921"
             ]
            ],
            "type": "histogram2d"
           }
          ],
          "histogram2dcontour": [
           {
            "colorbar": {
             "outlinewidth": 0,
             "ticks": ""
            },
            "colorscale": [
             [
              0,
              "#0d0887"
             ],
             [
              0.1111111111111111,
              "#46039f"
             ],
             [
              0.2222222222222222,
              "#7201a8"
             ],
             [
              0.3333333333333333,
              "#9c179e"
             ],
             [
              0.4444444444444444,
              "#bd3786"
             ],
             [
              0.5555555555555556,
              "#d8576b"
             ],
             [
              0.6666666666666666,
              "#ed7953"
             ],
             [
              0.7777777777777778,
              "#fb9f3a"
             ],
             [
              0.8888888888888888,
              "#fdca26"
             ],
             [
              1,
              "#f0f921"
             ]
            ],
            "type": "histogram2dcontour"
           }
          ],
          "mesh3d": [
           {
            "colorbar": {
             "outlinewidth": 0,
             "ticks": ""
            },
            "type": "mesh3d"
           }
          ],
          "parcoords": [
           {
            "line": {
             "colorbar": {
              "outlinewidth": 0,
              "ticks": ""
             }
            },
            "type": "parcoords"
           }
          ],
          "pie": [
           {
            "automargin": true,
            "type": "pie"
           }
          ],
          "scatter": [
           {
            "marker": {
             "colorbar": {
              "outlinewidth": 0,
              "ticks": ""
             }
            },
            "type": "scatter"
           }
          ],
          "scatter3d": [
           {
            "line": {
             "colorbar": {
              "outlinewidth": 0,
              "ticks": ""
             }
            },
            "marker": {
             "colorbar": {
              "outlinewidth": 0,
              "ticks": ""
             }
            },
            "type": "scatter3d"
           }
          ],
          "scattercarpet": [
           {
            "marker": {
             "colorbar": {
              "outlinewidth": 0,
              "ticks": ""
             }
            },
            "type": "scattercarpet"
           }
          ],
          "scattergeo": [
           {
            "marker": {
             "colorbar": {
              "outlinewidth": 0,
              "ticks": ""
             }
            },
            "type": "scattergeo"
           }
          ],
          "scattergl": [
           {
            "marker": {
             "colorbar": {
              "outlinewidth": 0,
              "ticks": ""
             }
            },
            "type": "scattergl"
           }
          ],
          "scattermapbox": [
           {
            "marker": {
             "colorbar": {
              "outlinewidth": 0,
              "ticks": ""
             }
            },
            "type": "scattermapbox"
           }
          ],
          "scatterpolar": [
           {
            "marker": {
             "colorbar": {
              "outlinewidth": 0,
              "ticks": ""
             }
            },
            "type": "scatterpolar"
           }
          ],
          "scatterpolargl": [
           {
            "marker": {
             "colorbar": {
              "outlinewidth": 0,
              "ticks": ""
             }
            },
            "type": "scatterpolargl"
           }
          ],
          "scatterternary": [
           {
            "marker": {
             "colorbar": {
              "outlinewidth": 0,
              "ticks": ""
             }
            },
            "type": "scatterternary"
           }
          ],
          "surface": [
           {
            "colorbar": {
             "outlinewidth": 0,
             "ticks": ""
            },
            "colorscale": [
             [
              0,
              "#0d0887"
             ],
             [
              0.1111111111111111,
              "#46039f"
             ],
             [
              0.2222222222222222,
              "#7201a8"
             ],
             [
              0.3333333333333333,
              "#9c179e"
             ],
             [
              0.4444444444444444,
              "#bd3786"
             ],
             [
              0.5555555555555556,
              "#d8576b"
             ],
             [
              0.6666666666666666,
              "#ed7953"
             ],
             [
              0.7777777777777778,
              "#fb9f3a"
             ],
             [
              0.8888888888888888,
              "#fdca26"
             ],
             [
              1,
              "#f0f921"
             ]
            ],
            "type": "surface"
           }
          ],
          "table": [
           {
            "cells": {
             "fill": {
              "color": "#EBF0F8"
             },
             "line": {
              "color": "white"
             }
            },
            "header": {
             "fill": {
              "color": "#C8D4E3"
             },
             "line": {
              "color": "white"
             }
            },
            "type": "table"
           }
          ]
         },
         "layout": {
          "annotationdefaults": {
           "arrowcolor": "#2a3f5f",
           "arrowhead": 0,
           "arrowwidth": 1
          },
          "coloraxis": {
           "colorbar": {
            "outlinewidth": 0,
            "ticks": ""
           }
          },
          "colorscale": {
           "diverging": [
            [
             0,
             "#8e0152"
            ],
            [
             0.1,
             "#c51b7d"
            ],
            [
             0.2,
             "#de77ae"
            ],
            [
             0.3,
             "#f1b6da"
            ],
            [
             0.4,
             "#fde0ef"
            ],
            [
             0.5,
             "#f7f7f7"
            ],
            [
             0.6,
             "#e6f5d0"
            ],
            [
             0.7,
             "#b8e186"
            ],
            [
             0.8,
             "#7fbc41"
            ],
            [
             0.9,
             "#4d9221"
            ],
            [
             1,
             "#276419"
            ]
           ],
           "sequential": [
            [
             0,
             "#0d0887"
            ],
            [
             0.1111111111111111,
             "#46039f"
            ],
            [
             0.2222222222222222,
             "#7201a8"
            ],
            [
             0.3333333333333333,
             "#9c179e"
            ],
            [
             0.4444444444444444,
             "#bd3786"
            ],
            [
             0.5555555555555556,
             "#d8576b"
            ],
            [
             0.6666666666666666,
             "#ed7953"
            ],
            [
             0.7777777777777778,
             "#fb9f3a"
            ],
            [
             0.8888888888888888,
             "#fdca26"
            ],
            [
             1,
             "#f0f921"
            ]
           ],
           "sequentialminus": [
            [
             0,
             "#0d0887"
            ],
            [
             0.1111111111111111,
             "#46039f"
            ],
            [
             0.2222222222222222,
             "#7201a8"
            ],
            [
             0.3333333333333333,
             "#9c179e"
            ],
            [
             0.4444444444444444,
             "#bd3786"
            ],
            [
             0.5555555555555556,
             "#d8576b"
            ],
            [
             0.6666666666666666,
             "#ed7953"
            ],
            [
             0.7777777777777778,
             "#fb9f3a"
            ],
            [
             0.8888888888888888,
             "#fdca26"
            ],
            [
             1,
             "#f0f921"
            ]
           ]
          },
          "colorway": [
           "#636efa",
           "#EF553B",
           "#00cc96",
           "#ab63fa",
           "#FFA15A",
           "#19d3f3",
           "#FF6692",
           "#B6E880",
           "#FF97FF",
           "#FECB52"
          ],
          "font": {
           "color": "#2a3f5f"
          },
          "geo": {
           "bgcolor": "white",
           "lakecolor": "white",
           "landcolor": "white",
           "showlakes": true,
           "showland": true,
           "subunitcolor": "#C8D4E3"
          },
          "hoverlabel": {
           "align": "left"
          },
          "hovermode": "closest",
          "mapbox": {
           "style": "light"
          },
          "paper_bgcolor": "white",
          "plot_bgcolor": "white",
          "polar": {
           "angularaxis": {
            "gridcolor": "#EBF0F8",
            "linecolor": "#EBF0F8",
            "ticks": ""
           },
           "bgcolor": "white",
           "radialaxis": {
            "gridcolor": "#EBF0F8",
            "linecolor": "#EBF0F8",
            "ticks": ""
           }
          },
          "scene": {
           "xaxis": {
            "backgroundcolor": "white",
            "gridcolor": "#DFE8F3",
            "gridwidth": 2,
            "linecolor": "#EBF0F8",
            "showbackground": true,
            "ticks": "",
            "zerolinecolor": "#EBF0F8"
           },
           "yaxis": {
            "backgroundcolor": "white",
            "gridcolor": "#DFE8F3",
            "gridwidth": 2,
            "linecolor": "#EBF0F8",
            "showbackground": true,
            "ticks": "",
            "zerolinecolor": "#EBF0F8"
           },
           "zaxis": {
            "backgroundcolor": "white",
            "gridcolor": "#DFE8F3",
            "gridwidth": 2,
            "linecolor": "#EBF0F8",
            "showbackground": true,
            "ticks": "",
            "zerolinecolor": "#EBF0F8"
           }
          },
          "shapedefaults": {
           "line": {
            "color": "#2a3f5f"
           }
          },
          "ternary": {
           "aaxis": {
            "gridcolor": "#DFE8F3",
            "linecolor": "#A2B1C6",
            "ticks": ""
           },
           "baxis": {
            "gridcolor": "#DFE8F3",
            "linecolor": "#A2B1C6",
            "ticks": ""
           },
           "bgcolor": "white",
           "caxis": {
            "gridcolor": "#DFE8F3",
            "linecolor": "#A2B1C6",
            "ticks": ""
           }
          },
          "title": {
           "x": 0.05
          },
          "xaxis": {
           "automargin": true,
           "gridcolor": "#EBF0F8",
           "linecolor": "#EBF0F8",
           "ticks": "",
           "title": {
            "standoff": 15
           },
           "zerolinecolor": "#EBF0F8",
           "zerolinewidth": 2
          },
          "yaxis": {
           "automargin": true,
           "gridcolor": "#EBF0F8",
           "linecolor": "#EBF0F8",
           "ticks": "",
           "title": {
            "standoff": 15
           },
           "zerolinecolor": "#EBF0F8",
           "zerolinewidth": 2
          }
         }
        },
        "xaxis": {
         "tickmode": "linear",
         "title": {
          "text": "Year"
         }
        },
        "yaxis": {
         "title": {
          "text": "Number of Matches"
         }
        }
       }
      },
      "text/html": [
       "<div>\n",
       "        \n",
       "        \n",
       "            <div id=\"9b401e9e-a6c9-4140-b3fc-7f5c7a408351\" class=\"plotly-graph-div\" style=\"height:525px; width:100%;\"></div>\n",
       "            <script type=\"text/javascript\">\n",
       "                require([\"plotly\"], function(Plotly) {\n",
       "                    window.PLOTLYENV=window.PLOTLYENV || {};\n",
       "                    \n",
       "                if (document.getElementById(\"9b401e9e-a6c9-4140-b3fc-7f5c7a408351\")) {\n",
       "                    Plotly.newPlot(\n",
       "                        '9b401e9e-a6c9-4140-b3fc-7f5c7a408351',\n",
       "                        [{\"hoverinfo\": \"skip\", \"marker\": {\"color\": \"#ff7f0e\"}, \"name\": \"World Cup Years\", \"text\": [125.0, 117.0, 125.0, 95.0], \"textfont\": {\"color\": \"white\"}, \"textposition\": \"inside\", \"type\": \"bar\", \"width\": 0.8, \"x\": [2007, 2011, 2015, 2019], \"y\": [125, 117, 125, 95]}, {\"hoverinfo\": \"skip\", \"marker\": {\"color\": \"#1f77b4\"}, \"name\": \"Other Years\", \"text\": [112.0, 89.0, 112.0, 102.0, 85.0, 118.0, 102.0, 87.0, 77.0, 3.0], \"textfont\": {\"color\": \"white\"}, \"textposition\": \"inside\", \"type\": \"bar\", \"width\": 0.8, \"x\": [2006, 2008, 2009, 2010, 2012, 2013, 2014, 2016, 2017, 2020], \"y\": [112, 89, 112, 102, 85, 118, 102, 87, 77, 3]}],\n",
       "                        {\"template\": {\"data\": {\"bar\": [{\"error_x\": {\"color\": \"#2a3f5f\"}, \"error_y\": {\"color\": \"#2a3f5f\"}, \"marker\": {\"line\": {\"color\": \"white\", \"width\": 0.5}}, \"type\": \"bar\"}], \"barpolar\": [{\"marker\": {\"line\": {\"color\": \"white\", \"width\": 0.5}}, \"type\": \"barpolar\"}], \"carpet\": [{\"aaxis\": {\"endlinecolor\": \"#2a3f5f\", \"gridcolor\": \"#C8D4E3\", \"linecolor\": \"#C8D4E3\", \"minorgridcolor\": \"#C8D4E3\", \"startlinecolor\": \"#2a3f5f\"}, \"baxis\": {\"endlinecolor\": \"#2a3f5f\", \"gridcolor\": \"#C8D4E3\", \"linecolor\": \"#C8D4E3\", \"minorgridcolor\": \"#C8D4E3\", \"startlinecolor\": \"#2a3f5f\"}, \"type\": \"carpet\"}], \"choropleth\": [{\"colorbar\": {\"outlinewidth\": 0, \"ticks\": \"\"}, \"type\": \"choropleth\"}], \"contour\": [{\"colorbar\": {\"outlinewidth\": 0, \"ticks\": \"\"}, \"colorscale\": [[0.0, \"#0d0887\"], [0.1111111111111111, \"#46039f\"], [0.2222222222222222, \"#7201a8\"], [0.3333333333333333, \"#9c179e\"], [0.4444444444444444, \"#bd3786\"], [0.5555555555555556, \"#d8576b\"], [0.6666666666666666, \"#ed7953\"], [0.7777777777777778, \"#fb9f3a\"], [0.8888888888888888, \"#fdca26\"], [1.0, \"#f0f921\"]], \"type\": \"contour\"}], \"contourcarpet\": [{\"colorbar\": {\"outlinewidth\": 0, \"ticks\": \"\"}, \"type\": \"contourcarpet\"}], \"heatmap\": [{\"colorbar\": {\"outlinewidth\": 0, \"ticks\": \"\"}, \"colorscale\": [[0.0, \"#0d0887\"], [0.1111111111111111, \"#46039f\"], [0.2222222222222222, \"#7201a8\"], [0.3333333333333333, \"#9c179e\"], [0.4444444444444444, \"#bd3786\"], [0.5555555555555556, \"#d8576b\"], [0.6666666666666666, \"#ed7953\"], [0.7777777777777778, \"#fb9f3a\"], [0.8888888888888888, \"#fdca26\"], [1.0, \"#f0f921\"]], \"type\": \"heatmap\"}], \"heatmapgl\": [{\"colorbar\": {\"outlinewidth\": 0, \"ticks\": \"\"}, \"colorscale\": [[0.0, \"#0d0887\"], [0.1111111111111111, \"#46039f\"], [0.2222222222222222, \"#7201a8\"], [0.3333333333333333, \"#9c179e\"], [0.4444444444444444, \"#bd3786\"], [0.5555555555555556, \"#d8576b\"], [0.6666666666666666, \"#ed7953\"], [0.7777777777777778, \"#fb9f3a\"], [0.8888888888888888, \"#fdca26\"], [1.0, \"#f0f921\"]], \"type\": \"heatmapgl\"}], \"histogram\": [{\"marker\": {\"colorbar\": {\"outlinewidth\": 0, \"ticks\": \"\"}}, \"type\": \"histogram\"}], \"histogram2d\": [{\"colorbar\": {\"outlinewidth\": 0, \"ticks\": \"\"}, \"colorscale\": [[0.0, \"#0d0887\"], [0.1111111111111111, \"#46039f\"], [0.2222222222222222, \"#7201a8\"], [0.3333333333333333, \"#9c179e\"], [0.4444444444444444, \"#bd3786\"], [0.5555555555555556, \"#d8576b\"], [0.6666666666666666, \"#ed7953\"], [0.7777777777777778, \"#fb9f3a\"], [0.8888888888888888, \"#fdca26\"], [1.0, \"#f0f921\"]], \"type\": \"histogram2d\"}], \"histogram2dcontour\": [{\"colorbar\": {\"outlinewidth\": 0, \"ticks\": \"\"}, \"colorscale\": [[0.0, \"#0d0887\"], [0.1111111111111111, \"#46039f\"], [0.2222222222222222, \"#7201a8\"], [0.3333333333333333, \"#9c179e\"], [0.4444444444444444, \"#bd3786\"], [0.5555555555555556, \"#d8576b\"], [0.6666666666666666, \"#ed7953\"], [0.7777777777777778, \"#fb9f3a\"], [0.8888888888888888, \"#fdca26\"], [1.0, \"#f0f921\"]], \"type\": \"histogram2dcontour\"}], \"mesh3d\": [{\"colorbar\": {\"outlinewidth\": 0, \"ticks\": \"\"}, \"type\": \"mesh3d\"}], \"parcoords\": [{\"line\": {\"colorbar\": {\"outlinewidth\": 0, \"ticks\": \"\"}}, \"type\": \"parcoords\"}], \"pie\": [{\"automargin\": true, \"type\": \"pie\"}], \"scatter\": [{\"marker\": {\"colorbar\": {\"outlinewidth\": 0, \"ticks\": \"\"}}, \"type\": \"scatter\"}], \"scatter3d\": [{\"line\": {\"colorbar\": {\"outlinewidth\": 0, \"ticks\": \"\"}}, \"marker\": {\"colorbar\": {\"outlinewidth\": 0, \"ticks\": \"\"}}, \"type\": \"scatter3d\"}], \"scattercarpet\": [{\"marker\": {\"colorbar\": {\"outlinewidth\": 0, \"ticks\": \"\"}}, \"type\": \"scattercarpet\"}], \"scattergeo\": [{\"marker\": {\"colorbar\": {\"outlinewidth\": 0, \"ticks\": \"\"}}, \"type\": \"scattergeo\"}], \"scattergl\": [{\"marker\": {\"colorbar\": {\"outlinewidth\": 0, \"ticks\": \"\"}}, \"type\": \"scattergl\"}], \"scattermapbox\": [{\"marker\": {\"colorbar\": {\"outlinewidth\": 0, \"ticks\": \"\"}}, \"type\": \"scattermapbox\"}], \"scatterpolar\": [{\"marker\": {\"colorbar\": {\"outlinewidth\": 0, \"ticks\": \"\"}}, \"type\": \"scatterpolar\"}], \"scatterpolargl\": [{\"marker\": {\"colorbar\": {\"outlinewidth\": 0, \"ticks\": \"\"}}, \"type\": \"scatterpolargl\"}], \"scatterternary\": [{\"marker\": {\"colorbar\": {\"outlinewidth\": 0, \"ticks\": \"\"}}, \"type\": \"scatterternary\"}], \"surface\": [{\"colorbar\": {\"outlinewidth\": 0, \"ticks\": \"\"}, \"colorscale\": [[0.0, \"#0d0887\"], [0.1111111111111111, \"#46039f\"], [0.2222222222222222, \"#7201a8\"], [0.3333333333333333, \"#9c179e\"], [0.4444444444444444, \"#bd3786\"], [0.5555555555555556, \"#d8576b\"], [0.6666666666666666, \"#ed7953\"], [0.7777777777777778, \"#fb9f3a\"], [0.8888888888888888, \"#fdca26\"], [1.0, \"#f0f921\"]], \"type\": \"surface\"}], \"table\": [{\"cells\": {\"fill\": {\"color\": \"#EBF0F8\"}, \"line\": {\"color\": \"white\"}}, \"header\": {\"fill\": {\"color\": \"#C8D4E3\"}, \"line\": {\"color\": \"white\"}}, \"type\": \"table\"}]}, \"layout\": {\"annotationdefaults\": {\"arrowcolor\": \"#2a3f5f\", \"arrowhead\": 0, \"arrowwidth\": 1}, \"coloraxis\": {\"colorbar\": {\"outlinewidth\": 0, \"ticks\": \"\"}}, \"colorscale\": {\"diverging\": [[0, \"#8e0152\"], [0.1, \"#c51b7d\"], [0.2, \"#de77ae\"], [0.3, \"#f1b6da\"], [0.4, \"#fde0ef\"], [0.5, \"#f7f7f7\"], [0.6, \"#e6f5d0\"], [0.7, \"#b8e186\"], [0.8, \"#7fbc41\"], [0.9, \"#4d9221\"], [1, \"#276419\"]], \"sequential\": [[0.0, \"#0d0887\"], [0.1111111111111111, \"#46039f\"], [0.2222222222222222, \"#7201a8\"], [0.3333333333333333, \"#9c179e\"], [0.4444444444444444, \"#bd3786\"], [0.5555555555555556, \"#d8576b\"], [0.6666666666666666, \"#ed7953\"], [0.7777777777777778, \"#fb9f3a\"], [0.8888888888888888, \"#fdca26\"], [1.0, \"#f0f921\"]], \"sequentialminus\": [[0.0, \"#0d0887\"], [0.1111111111111111, \"#46039f\"], [0.2222222222222222, \"#7201a8\"], [0.3333333333333333, \"#9c179e\"], [0.4444444444444444, \"#bd3786\"], [0.5555555555555556, \"#d8576b\"], [0.6666666666666666, \"#ed7953\"], [0.7777777777777778, \"#fb9f3a\"], [0.8888888888888888, \"#fdca26\"], [1.0, \"#f0f921\"]]}, \"colorway\": [\"#636efa\", \"#EF553B\", \"#00cc96\", \"#ab63fa\", \"#FFA15A\", \"#19d3f3\", \"#FF6692\", \"#B6E880\", \"#FF97FF\", \"#FECB52\"], \"font\": {\"color\": \"#2a3f5f\"}, \"geo\": {\"bgcolor\": \"white\", \"lakecolor\": \"white\", \"landcolor\": \"white\", \"showlakes\": true, \"showland\": true, \"subunitcolor\": \"#C8D4E3\"}, \"hoverlabel\": {\"align\": \"left\"}, \"hovermode\": \"closest\", \"mapbox\": {\"style\": \"light\"}, \"paper_bgcolor\": \"white\", \"plot_bgcolor\": \"white\", \"polar\": {\"angularaxis\": {\"gridcolor\": \"#EBF0F8\", \"linecolor\": \"#EBF0F8\", \"ticks\": \"\"}, \"bgcolor\": \"white\", \"radialaxis\": {\"gridcolor\": \"#EBF0F8\", \"linecolor\": \"#EBF0F8\", \"ticks\": \"\"}}, \"scene\": {\"xaxis\": {\"backgroundcolor\": \"white\", \"gridcolor\": \"#DFE8F3\", \"gridwidth\": 2, \"linecolor\": \"#EBF0F8\", \"showbackground\": true, \"ticks\": \"\", \"zerolinecolor\": \"#EBF0F8\"}, \"yaxis\": {\"backgroundcolor\": \"white\", \"gridcolor\": \"#DFE8F3\", \"gridwidth\": 2, \"linecolor\": \"#EBF0F8\", \"showbackground\": true, \"ticks\": \"\", \"zerolinecolor\": \"#EBF0F8\"}, \"zaxis\": {\"backgroundcolor\": \"white\", \"gridcolor\": \"#DFE8F3\", \"gridwidth\": 2, \"linecolor\": \"#EBF0F8\", \"showbackground\": true, \"ticks\": \"\", \"zerolinecolor\": \"#EBF0F8\"}}, \"shapedefaults\": {\"line\": {\"color\": \"#2a3f5f\"}}, \"ternary\": {\"aaxis\": {\"gridcolor\": \"#DFE8F3\", \"linecolor\": \"#A2B1C6\", \"ticks\": \"\"}, \"baxis\": {\"gridcolor\": \"#DFE8F3\", \"linecolor\": \"#A2B1C6\", \"ticks\": \"\"}, \"bgcolor\": \"white\", \"caxis\": {\"gridcolor\": \"#DFE8F3\", \"linecolor\": \"#A2B1C6\", \"ticks\": \"\"}}, \"title\": {\"x\": 0.05}, \"xaxis\": {\"automargin\": true, \"gridcolor\": \"#EBF0F8\", \"linecolor\": \"#EBF0F8\", \"ticks\": \"\", \"title\": {\"standoff\": 15}, \"zerolinecolor\": \"#EBF0F8\", \"zerolinewidth\": 2}, \"yaxis\": {\"automargin\": true, \"gridcolor\": \"#EBF0F8\", \"linecolor\": \"#EBF0F8\", \"ticks\": \"\", \"title\": {\"standoff\": 15}, \"zerolinecolor\": \"#EBF0F8\", \"zerolinewidth\": 2}}}, \"xaxis\": {\"tickmode\": \"linear\", \"title\": {\"text\": \"Year\"}}, \"yaxis\": {\"title\": {\"text\": \"Number of Matches\"}}},\n",
       "                        {\"responsive\": true}\n",
       "                    ).then(function(){\n",
       "                            \n",
       "var gd = document.getElementById('9b401e9e-a6c9-4140-b3fc-7f5c7a408351');\n",
       "var x = new MutationObserver(function (mutations, observer) {{\n",
       "        var display = window.getComputedStyle(gd).display;\n",
       "        if (!display || display === 'none') {{\n",
       "            console.log([gd, 'removed!']);\n",
       "            Plotly.purge(gd);\n",
       "            observer.disconnect();\n",
       "        }}\n",
       "}});\n",
       "\n",
       "// Listen for the removal of the full notebook cells\n",
       "var notebookContainer = gd.closest('#notebook-container');\n",
       "if (notebookContainer) {{\n",
       "    x.observe(notebookContainer, {childList: true});\n",
       "}}\n",
       "\n",
       "// Listen for the clearing of the current output cell\n",
       "var outputEl = gd.closest('.output');\n",
       "if (outputEl) {{\n",
       "    x.observe(outputEl, {childList: true});\n",
       "}}\n",
       "\n",
       "                        })\n",
       "                };\n",
       "                });\n",
       "            </script>\n",
       "        </div>"
      ]
     },
     "metadata": {},
     "output_type": "display_data"
    }
   ],
   "source": [
    "# group by year to get counts\n",
    "year_groups = matches_df['match_id'].groupby(matches_df.year).agg('count')\n",
    "\n",
    "year_groups_df = pd.DataFrame(year_groups)\n",
    "year_groups_df = year_groups_df.rename(columns = {\"match_id\": \"count\"})\n",
    "year_groups_df['year'] = year_groups_df.index\n",
    "year_groups_df['remainder'] = year_groups_df['year'] % 4\n",
    "\n",
    "fig = go.Figure()\n",
    "\n",
    "fig.add_trace(go.Bar(\n",
    "    x = year_groups_df.loc[year_groups_df['remainder'] == 3, 'year'],\n",
    "    y = year_groups_df.loc[year_groups_df['remainder'] == 3, 'count'],\n",
    "    text = year_groups_df.loc[year_groups_df['remainder'] == 3, 'count'],\n",
    "    textposition = 'inside',\n",
    "    textfont = dict(color = 'white'),\n",
    "    name = 'World Cup Years',\n",
    "    marker_color = \"#ff7f0e\",\n",
    "    hoverinfo = 'skip',\n",
    "    width = 0.8\n",
    "))\n",
    "\n",
    "fig.add_trace(go.Bar(\n",
    "    x = year_groups_df.loc[year_groups_df['remainder'] != 3, 'year'],\n",
    "    y = year_groups_df.loc[year_groups_df['remainder'] != 3, 'count'],\n",
    "    text = year_groups_df.loc[year_groups_df['remainder'] != 3, 'count'],\n",
    "    textposition = 'inside',\n",
    "    textfont = dict(color = 'white'),\n",
    "    name = 'Other Years',\n",
    "    marker_color = \"#1f77b4\",\n",
    "    hoverinfo = 'skip',\n",
    "    width = 0.8\n",
    "))\n",
    "\n",
    "fig.update_layout(\n",
    "    xaxis = dict(title = 'Year', tickmode = 'linear'),\n",
    "    yaxis = dict(title = 'Number of Matches'),\n",
    "    template = 'plotly_white'\n",
    ")\n",
    "\n",
    "fig.show()"
   ]
  },
  {
   "cell_type": "markdown",
   "metadata": {},
   "source": [
    "We can immediately see that 2018 is missing. Also, on deeper investigation, it can be seen that data is missing between July 2017 and February 2019. Looks odd, but continuing on. <br>\n",
    "Another interesting point to note is that World Cup years tend to have more matches - which makes sense. 2019 has fewer matches only because the data is incomplete for 2019.\n",
    "### 2.2 Importing the ball by ball details\n",
    "Now, we can import the ball by ball details for all the above selected matches. <br>\n",
    "This is where the formatting of data takes place. Each ball is read for necessary information and data is stored into a dataframe. Special care is taken for extras where balls are delivered again (wides, noballs) as events from both need to be considered. <br>\n",
    "Information such as runs, wickets, extras, fours, sixes and bowler are stored. <br>\n",
    "Further, matches dataframe is also updated with information regarding winner, toss and ground. "
   ]
  },
  {
   "cell_type": "code",
   "execution_count": 1315,
   "metadata": {},
   "outputs": [],
   "source": [
    "def get_inning_df(deliveries, team, innings_name, match_id):\n",
    "\n",
    "    innings_list = []       # empty list\n",
    "\n",
    "    runs_from_prev = 0      # extra+actual runs from previous illegal balls which has to be added to the legal ball\n",
    "    extras_from_prev = 0    # extras from previous illegal balls which has to be added to the legal ball\n",
    "    wickets = 0             # wickets in that particular ball (can be more than one as wide+OUT and OUT in re-ball)\n",
    "    fours = 0               # fours in that particular ball (can be more than one due to no-balls)\n",
    "    sixes = 0               # sixes in that particular ball (can be more than one due to no-balls)\n",
    "    runs_cume = 0           # total score\n",
    "    wickets_cume = 0        # total wickets down\n",
    "    ball_no = 0\n",
    "\n",
    "    for delivery in deliveries:\n",
    "\n",
    "        # runs scored in wide and noballs have to be added onto the next legal delivery\n",
    "        wide_match = re.search(r\"\\'wides\\':\", str(delivery))\n",
    "        noball_match = re.search(r\"\\'noballs\\':\", str(delivery))\n",
    "\n",
    "        if wide_match is not None:\n",
    "            run_match = re.search(r\"\\'total\\': (\\d)\", str(delivery))\n",
    "            runs_from_prev = runs_from_prev + int(run_match.group(1))\n",
    "            \n",
    "            extra_match = re.search(r\"\\'extras\\': (\\d)\", str(delivery))\n",
    "            extras_from_prev = extras_from_prev + int(extra_match.group(1))\n",
    "\n",
    "            # wicket can fall on wide ball (stumping). So, possible to have more than one wicket for a legal ball\n",
    "            wicket_match = re.search(r\"\\'wicket\\':\", str(delivery))\n",
    "            if wicket_match is not None:\n",
    "                wickets = wickets + 1\n",
    "\n",
    "        elif noball_match is not None:\n",
    "            run_match = re.search(r\"\\'total\\': (\\d)\", str(delivery))\n",
    "            runs_from_prev = runs_from_prev + int(run_match.group(1))\n",
    "            \n",
    "            extra_match = re.search(r\"\\'extras\\': (\\d)\", str(delivery))\n",
    "            extras_from_prev = extras_from_prev + int(extra_match.group(1))\n",
    "            \n",
    "            four_match = re.search(r\"\\'batsman\\': 4\", str(delivery))\n",
    "            if four_match is not None:\n",
    "                fours = fours + 1\n",
    "            \n",
    "            six_match = re.search(r\"\\'batsman\\': 6\", str(delivery))\n",
    "            if six_match is not None:\n",
    "                sixes = sixes + 1\n",
    "\n",
    "        # anything other than wide and noball (no re-balls for other extras)\n",
    "        else:\n",
    "            wicket_match = re.search(r\"\\'wicket\\':\", str(delivery))\n",
    "            if wicket_match is not None:\n",
    "                wickets = wickets + 1\n",
    "            \n",
    "            four_match = re.search(r\"\\'batsman\\': 4\", str(delivery))\n",
    "            if four_match is not None:\n",
    "                fours = fours + 1\n",
    "            \n",
    "            six_match = re.search(r\"\\'batsman\\': 6\", str(delivery))\n",
    "            if six_match is not None:\n",
    "                sixes = sixes + 1\n",
    "\n",
    "            run_match = re.search(r\"\\'total\\': (\\d)\", str(delivery))\n",
    "            runs = int(run_match.group(1)) + runs_from_prev      # runs from previous illegal balls also included\n",
    "            \n",
    "            extra_match = re.search(r\"\\'extras\\': (\\d)\", str(delivery))\n",
    "            extras = int(extra_match.group(1)) + extras_from_prev   # extras from previous illegal balls also\n",
    "\n",
    "            # cumulative runs and wickets\n",
    "            runs_cume = runs_cume + runs\n",
    "            wickets_cume = wickets_cume + wickets\n",
    "            \n",
    "            # get bowler\n",
    "            bowler = \"NA\"\n",
    "            bowler_match = re.search(r\"\\'bowler\\': \\'(.*?)\\'\", str(delivery))\n",
    "            if bowler_match is not None:\n",
    "                bowler = bowler_match.group(1)\n",
    "            \n",
    "            # update ball_no\n",
    "            ball_no = ball_no + 1\n",
    "            \n",
    "            # add all to list\n",
    "            innings_list.append([int(match_id), innings_name, int(ball_no), int(runs), int(wickets), int(runs_cume), \n",
    "                                 int(wickets_cume), team, bowler, int(fours), int(sixes), int(extras)])   \n",
    "\n",
    "            # reset all at the end of a legal ball\n",
    "            runs_from_prev = 0\n",
    "            extras_from_prev = 0\n",
    "            wickets = 0\n",
    "            fours = 0\n",
    "            sixes = 0\n",
    "\n",
    "    inning_df = pd.DataFrame(innings_list, columns = ['match_id', 'innings', 'ball_no', 'runs', 'wicket', \n",
    "                                                      'runs_cume', 'wickets_cume', 'batting_team', \n",
    "                                                      'bowler', 'fours', 'sixes', 'extras'])\n",
    "    return inning_df"
   ]
  },
  {
   "cell_type": "code",
   "execution_count": 1316,
   "metadata": {
    "scrolled": true
   },
   "outputs": [
    {
     "data": {
      "text/plain": [
       "'\\n# for concatenating later\\nmatch_df_list = []\\nmatch_label_list = []\\n\\nfor index, row in matches_df.iterrows():           # iterate all selected matches\\n    \\n    if index % 25 == 0: \\n        print (index, \"----\", row[\\'match_id\\'])     # keep track - REMOVE\\n    \\n    with open(\\'odis/\\' + str(row[\\'match_id\\']) + \\'.yaml\\') as stream:\\n        data_loaded = yaml.safe_load(stream)\\n        \\n#         if str(row[\\'match_id\\']) == \\'1193504\\':\\n#             break;\\n\\n        # save ground, toss and match winner data\\n        matches_df.at[index, \\'ground\\'] = data_loaded[\\'info\\'][\\'venue\\']\\n        if \\'toss\\' in data_loaded[\\'info\\']:\\n            matches_df.at[index, \\'toss_winner\\'] = data_loaded[\\'info\\'][\\'toss\\'][\\'winner\\']\\n            matches_df.at[index, \\'toss_decision\\'] = data_loaded[\\'info\\'][\\'toss\\'][\\'decision\\']\\n        if \\'winner\\' in data_loaded[\\'info\\'][\\'outcome\\']:\\n            matches_df.at[index, \\'match_winner\\'] = data_loaded[\\'info\\'][\\'outcome\\'][\\'winner\\']\\n            if \\'method\\' in data_loaded[\\'info\\'][\\'outcome\\'] and data_loaded[\\'info\\'][\\'outcome\\'][\\'method\\'] == \"D/L\":\\n                matches_df.at[index, \\'dl_used\\'] = \"y\"\\n        else:\\n            matches_df.at[index, \\'match_winner\\'] = \"No Result\"\\n        \\n        # check number of innings and create empty dfs in case no balls bowled\\n        max_innings = len(data_loaded[\\'innings\\']) - 1\\n        df_1st_innings = pd.DataFrame(columns = [\\'runs\\', \\'wicket\\', \\'runs_cume\\', \\'wickets_cume\\'])\\n        df_2nd_innings = pd.DataFrame(columns = [\\'runs\\', \\'wicket\\', \\'runs_cume\\', \\'wickets_cume\\'])\\n        \\n        # first innings\\n        if (max_innings >= 0) and (data_loaded[\\'innings\\'][0] is not None) and             (data_loaded[\\'innings\\'][0][\\'1st innings\\'] is not None) and             (data_loaded[\\'innings\\'][0][\\'1st innings\\'][\\'deliveries\\'] is not None):\\n            \\n            team = data_loaded[\\'innings\\'][0][\\'1st innings\\'][\\'team\\']\\n            deliveries_1st_innings = data_loaded[\\'innings\\'][0][\\'1st innings\\'][\\'deliveries\\']\\n            df_1st_innings = get_inning_df(deliveries_1st_innings, team, \\'first_innings\\', row[\\'match_id\\'])\\n            if len(df_1st_innings) > 300:       # if either innings has more than 300 balls (miscounting), exclude\\n                continue\\n        \\n        # second innings\\n        if (max_innings >= 1) and (data_loaded[\\'innings\\'][1] is not None) and             (data_loaded[\\'innings\\'][1][\\'2nd innings\\'] is not None) and             (data_loaded[\\'innings\\'][1][\\'2nd innings\\'][\\'deliveries\\'] is not None):\\n            \\n            team = data_loaded[\\'innings\\'][1][\\'2nd innings\\'][\\'team\\']\\n            deliveries_2nd_innings = data_loaded[\\'innings\\'][1][\\'2nd innings\\'][\\'deliveries\\']    \\n            df_2nd_innings = get_inning_df(deliveries_2nd_innings, team, \\'second_innings\\', row[\\'match_id\\'])\\n            if len(df_2nd_innings) > 300:       # if either innings has more than 300 balls (miscounting), exclude\\n                continue\\n        \\n        # concatenate both innings - one below the other\\n        match_df = pd.concat([df_1st_innings, df_2nd_innings], axis = 0, sort = False)\\n        \\n        # add these to list to be able to concatenate to df later\\n        match_df_list.append(match_df)\\n        match_label_list.append(str(row[\\'match_id\\']))\\n\\n# concatenate all ball by ball info to a df\\nfull_df = pd.concat(match_df_list, axis = 0, sort = False)\\n\\nfull_df[\\'match_id\\'] = full_df[\\'match_id\\'].astype(int)\\nfull_df[\\'ball_no\\'] = full_df[\\'ball_no\\'].astype(int)\\nfull_df[\\'fours\\'] = full_df[\\'fours\\'].astype(int)\\nfull_df[\\'sixes\\'] = full_df[\\'sixes\\'].astype(int)\\nfull_df[\\'extras\\'] = full_df[\\'extras\\'].astype(int)\\n\\n# take backup for later\\nmatches_backup_df = matches_df\\nfull_backup_df = full_df\\n\\nfull_df.to_csv(\\'full.csv\\', index = False)\\nmatches_df.to_csv(\\'matches.csv\\', index = False)\\n'"
      ]
     },
     "execution_count": 1316,
     "metadata": {},
     "output_type": "execute_result"
    }
   ],
   "source": [
    "# # for concatenating later\n",
    "# match_df_list = []\n",
    "# match_label_list = []\n",
    "\n",
    "# for index, row in matches_df.iterrows():           # iterate all selected matches\n",
    "    \n",
    "#     if index % 25 == 0: \n",
    "#         print (index, \"----\", row['match_id'])     # keep track - REMOVE\n",
    "    \n",
    "#     with open('odis/' + str(row['match_id']) + '.yaml') as stream:\n",
    "#         data_loaded = yaml.safe_load(stream)\n",
    "        \n",
    "# #         if str(row['match_id']) == '1193504':\n",
    "# #             break;\n",
    "\n",
    "#         # save ground, toss and match winner data\n",
    "#         matches_df.at[index, 'ground'] = data_loaded['info']['venue']\n",
    "#         if 'toss' in data_loaded['info']:\n",
    "#             matches_df.at[index, 'toss_winner'] = data_loaded['info']['toss']['winner']\n",
    "#             matches_df.at[index, 'toss_decision'] = data_loaded['info']['toss']['decision']\n",
    "#         if 'winner' in data_loaded['info']['outcome']:\n",
    "#             matches_df.at[index, 'match_winner'] = data_loaded['info']['outcome']['winner']\n",
    "#             if 'method' in data_loaded['info']['outcome'] and data_loaded['info']['outcome']['method'] == \"D/L\":\n",
    "#                 matches_df.at[index, 'dl_used'] = \"y\"\n",
    "#         else:\n",
    "#             matches_df.at[index, 'match_winner'] = \"No Result\"\n",
    "        \n",
    "#         # check number of innings and create empty dfs in case no balls bowled\n",
    "#         max_innings = len(data_loaded['innings']) - 1\n",
    "#         df_1st_innings = pd.DataFrame(columns = ['runs', 'wicket', 'runs_cume', 'wickets_cume'])\n",
    "#         df_2nd_innings = pd.DataFrame(columns = ['runs', 'wicket', 'runs_cume', 'wickets_cume'])\n",
    "        \n",
    "#         # first innings\n",
    "#         if (max_innings >= 0) and (data_loaded['innings'][0] is not None) and \\\n",
    "#             (data_loaded['innings'][0]['1st innings'] is not None) and \\\n",
    "#             (data_loaded['innings'][0]['1st innings']['deliveries'] is not None):\n",
    "            \n",
    "#             team = data_loaded['innings'][0]['1st innings']['team']\n",
    "#             deliveries_1st_innings = data_loaded['innings'][0]['1st innings']['deliveries']\n",
    "#             df_1st_innings = get_inning_df(deliveries_1st_innings, team, 'first_innings', row['match_id'])\n",
    "#             if len(df_1st_innings) > 300:       # if either innings has more than 300 balls (miscounting), exclude\n",
    "#                 continue\n",
    "        \n",
    "#         # second innings\n",
    "#         if (max_innings >= 1) and (data_loaded['innings'][1] is not None) and \\\n",
    "#             (data_loaded['innings'][1]['2nd innings'] is not None) and \\\n",
    "#             (data_loaded['innings'][1]['2nd innings']['deliveries'] is not None):\n",
    "            \n",
    "#             team = data_loaded['innings'][1]['2nd innings']['team']\n",
    "#             deliveries_2nd_innings = data_loaded['innings'][1]['2nd innings']['deliveries']    \n",
    "#             df_2nd_innings = get_inning_df(deliveries_2nd_innings, team, 'second_innings', row['match_id'])\n",
    "#             if len(df_2nd_innings) > 300:       # if either innings has more than 300 balls (miscounting), exclude\n",
    "#                 continue\n",
    "        \n",
    "#         # concatenate both innings - one below the other\n",
    "#         match_df = pd.concat([df_1st_innings, df_2nd_innings], axis = 0, sort = False)\n",
    "        \n",
    "#         # add these to list to be able to concatenate to df later\n",
    "#         match_df_list.append(match_df)\n",
    "#         match_label_list.append(str(row['match_id']))\n",
    "\n",
    "# # concatenate all ball by ball info to a df\n",
    "# full_df = pd.concat(match_df_list, axis = 0, sort = False)\n",
    "\n",
    "# full_df['match_id'] = full_df['match_id'].astype(int)\n",
    "# full_df['ball_no'] = full_df['ball_no'].astype(int)\n",
    "# full_df['fours'] = full_df['fours'].astype(int)\n",
    "# full_df['sixes'] = full_df['sixes'].astype(int)\n",
    "# full_df['extras'] = full_df['extras'].astype(int)\n",
    "\n",
    "# # take backup for later\n",
    "# matches_backup_df = matches_df\n",
    "# full_backup_df = full_df\n",
    "\n",
    "# full_df.to_csv('full.csv', index = False)\n",
    "# matches_df.to_csv('matches.csv', index = False)"
   ]
  },
  {
   "cell_type": "markdown",
   "metadata": {},
   "source": [
    "Save the information to a csv for easier access later. "
   ]
  },
  {
   "cell_type": "code",
   "execution_count": 1329,
   "metadata": {},
   "outputs": [],
   "source": [
    "matches_df = pd.read_csv(\"matches.csv\", parse_dates = ['date'], \n",
    "                         date_parser = lambda x: pd.to_datetime(x, format = '%Y-%m-%d'))\n",
    "full_df = pd.read_csv(\"full.csv\")"
   ]
  },
  {
   "cell_type": "code",
   "execution_count": 1318,
   "metadata": {},
   "outputs": [],
   "source": [
    "# matches_df = matches_backup_df\n",
    "# full_df = full_backup_df"
   ]
  },
  {
   "cell_type": "markdown",
   "metadata": {},
   "source": [
    "### 2.3 Cleaning data\n",
    "Now, removing duplicates."
   ]
  },
  {
   "cell_type": "code",
   "execution_count": 1319,
   "metadata": {},
   "outputs": [
    {
     "data": {
      "text/plain": [
       "141"
      ]
     },
     "execution_count": 1319,
     "metadata": {},
     "output_type": "execute_result"
    }
   ],
   "source": [
    "all_grounds = matches_df.ground.unique()\n",
    "len(all_grounds)"
   ]
  },
  {
   "cell_type": "markdown",
   "metadata": {},
   "source": [
    "Looking throught the list of 141 grounds, it is found that few of them are repeated (with spelling mistakes or using older/alternate names). Moving onto correcting these."
   ]
  },
  {
   "cell_type": "code",
   "execution_count": 1320,
   "metadata": {},
   "outputs": [
    {
     "data": {
      "text/plain": [
       "116"
      ]
     },
     "execution_count": 1320,
     "metadata": {},
     "output_type": "execute_result"
    }
   ],
   "source": [
    "matches_df['ground'].replace({'Darren Sammy National Cricket Stadium, Gros Islet': 'Beausejour Stadium, Gros Islet', \n",
    "                              'Darren Sammy National Cricket Stadium, St Lucia': 'Beausejour Stadium, Gros Islet', \n",
    "                              'Dubai Sports City Cricket Stadium': 'Dubai International Cricket Stadium', \n",
    "                              'Grange Cricket Club, Raeburn Place': 'Grange Cricket Club Ground, Raeburn Place', \n",
    "                              'ICC Global Cricket Academy': 'ICC Academy', \n",
    "                              'Kensington Oval, Barbados': 'Kensington Oval, Bridgetown', \n",
    "                              'National Cricket Stadium, Grenada': 'National Cricket Stadium, St George\\'s', \n",
    "                              'Nehru Stadium, Fatorda': 'Nehru Stadium', \n",
    "                              'Providence Stadium, Guyana': 'Providence Stadium', \n",
    "                              'Punjab Cricket Association IS Bindra Stadium, Mohali': 'Punjab Cricket Association Stadium, Mohali', \n",
    "                              'Queen\\'s Park Oval, Trinidad': 'Queen\\'s Park Oval, Port of Spain', \n",
    "                              'R.Premadasa Stadium, Khettarama': 'R Premadasa Stadium', \n",
    "                              'Sharjah Cricket Association Stadium': 'Sharjah Cricket Stadium', \n",
    "                              'Vidarbha Cricket Association Stadium, Jamtha': 'Vidarbha Cricket Association Ground', \n",
    "                              'Zohur Ahmed Chowdhury Stadium': 'Zahur Ahmed Chowdhury Stadium',\n",
    "                              'Civil Service Cricket Club, Stormont': 'Stormont Cricket Ground',\n",
    "                              'Riverside Ground': 'County Ground',\n",
    "                              'Kennington Oval': 'The Oval',\n",
    "                              'Sophia Gardens': 'SWALEC Stadium',\n",
    "                              'The Village, Malahide': 'Malahide Cricket Club Ground',\n",
    "                              'Newlands': 'Sahara Park Newlands',\n",
    "                              'St George\\'s Park': 'Axxess DSL St. Georges',\n",
    "                              'SuperSport Park': 'Centurion Park', \n",
    "                              'Shere Bangla National Stadium': 'Shere-e-Bangla Cricket Stadium',\n",
    "                              'Green Park': 'Modi Stadium', \n",
    "                              'Maharani Usharaje Trust Cricket Ground': 'Holkar Cricket Stadium',\n",
    "                              'Andhra Cricket Association-Visakhapatnam District Cricket Association Stadium': \n",
    "                                  'Dr. Y.S. Rajasekhara Reddy ACA-VDCA Cricket Stadium',\n",
    "                              'OUTsurance Oval': 'Goodyear Park',\n",
    "                              'Sedgars Park': 'North West Cricket Stadium', \n",
    "                              'Narayanganj Osmani Stadium': 'Khan Shaheb Osman Ali Stadium',\n",
    "                              'Castle Avenue': 'Clontarf Cricket Club Ground',\n",
    "                              'Feroz Shah Kotla': 'Arun Jaitley Stadium', \n",
    "                              'Chittagong Divisional Stadium': 'Zahur Ahmed Chowdhury Stadium',\n",
    "                              'Indian Petrochemicals Corporation Limited Sports Complex Ground': 'Reliance Stadium',\n",
    "                              'Jade Stadium': 'AMI Stadium',\n",
    "                              'Chevrolet Park': 'Goodyear Park',\n",
    "                              'Mangaung Oval': 'Goodyear Park'\n",
    "                             }, inplace=True)\n",
    "\n",
    "all_grounds = matches_df.ground.unique()\n",
    "len(all_grounds)"
   ]
  },
  {
   "cell_type": "markdown",
   "metadata": {},
   "source": [
    "We see that there are no such duplicates in team names."
   ]
  },
  {
   "cell_type": "code",
   "execution_count": 1321,
   "metadata": {
    "scrolled": true
   },
   "outputs": [
    {
     "data": {
      "text/plain": [
       "array(['Sri Lanka', 'New Zealand', 'Australia', 'South Africa', 'India',\n",
       "       'Pakistan', 'West Indies', 'Bangladesh', 'England', 'Zimbabwe',\n",
       "       'Ireland', 'Afghanistan'], dtype=object)"
      ]
     },
     "execution_count": 1321,
     "metadata": {},
     "output_type": "execute_result"
    }
   ],
   "source": [
    "full_df.batting_team.unique()"
   ]
  },
  {
   "cell_type": "markdown",
   "metadata": {},
   "source": [
    "#### 2.3.1 Mapping grounds to country\n",
    "Now, let us map the grounds to the countries. This will be done using data from wikipedia page \"List of One Day International cricket grounds\" at https://en.wikipedia.org/wiki/List_of_One_Day_International_cricket_grounds. The data was scraped and saved for later use. "
   ]
  },
  {
   "cell_type": "code",
   "execution_count": 1322,
   "metadata": {},
   "outputs": [
    {
     "data": {
      "text/html": [
       "<div>\n",
       "<style scoped>\n",
       "    .dataframe tbody tr th:only-of-type {\n",
       "        vertical-align: middle;\n",
       "    }\n",
       "\n",
       "    .dataframe tbody tr th {\n",
       "        vertical-align: top;\n",
       "    }\n",
       "\n",
       "    .dataframe thead th {\n",
       "        text-align: right;\n",
       "    }\n",
       "</style>\n",
       "<table border=\"1\" class=\"dataframe\">\n",
       "  <thead>\n",
       "    <tr style=\"text-align: right;\">\n",
       "      <th></th>\n",
       "      <th>No.</th>\n",
       "      <th>Official name (known as)</th>\n",
       "      <th>City</th>\n",
       "      <th>Country</th>\n",
       "      <th>First match</th>\n",
       "      <th>Last match</th>\n",
       "      <th>Matches</th>\n",
       "    </tr>\n",
       "  </thead>\n",
       "  <tbody>\n",
       "    <tr>\n",
       "      <th>0</th>\n",
       "      <td>1</td>\n",
       "      <td>Melbourne Cricket Ground (MCG)</td>\n",
       "      <td>Melbourne</td>\n",
       "      <td>Australia</td>\n",
       "      <td>5 January 1971</td>\n",
       "      <td>18 January 2019 [2]</td>\n",
       "      <td>149 [3]</td>\n",
       "    </tr>\n",
       "    <tr>\n",
       "      <th>1</th>\n",
       "      <td>2</td>\n",
       "      <td>Old Trafford Cricket Ground</td>\n",
       "      <td>Manchester</td>\n",
       "      <td>England</td>\n",
       "      <td>24 August 1972</td>\n",
       "      <td>9 July 2019 [4]</td>\n",
       "      <td>52 [5]</td>\n",
       "    </tr>\n",
       "    <tr>\n",
       "      <th>2</th>\n",
       "      <td>3</td>\n",
       "      <td>Lord's</td>\n",
       "      <td>London</td>\n",
       "      <td>England</td>\n",
       "      <td>26 August 1972</td>\n",
       "      <td>14 July 2019 [6]</td>\n",
       "      <td>66 [7]</td>\n",
       "    </tr>\n",
       "    <tr>\n",
       "      <th>3</th>\n",
       "      <td>4</td>\n",
       "      <td>Edgbaston Cricket Ground</td>\n",
       "      <td>Birmingham</td>\n",
       "      <td>England</td>\n",
       "      <td>28 August 1972</td>\n",
       "      <td>11 July 2019 [8]</td>\n",
       "      <td>63 [9]</td>\n",
       "    </tr>\n",
       "    <tr>\n",
       "      <th>4</th>\n",
       "      <td>5</td>\n",
       "      <td>AMI Stadium (formerly Jade Stadium and Lancast...</td>\n",
       "      <td>Christchurch</td>\n",
       "      <td>New Zealand</td>\n",
       "      <td>11 February 1973</td>\n",
       "      <td>29 January 2011 [10]</td>\n",
       "      <td>48 [11]</td>\n",
       "    </tr>\n",
       "  </tbody>\n",
       "</table>\n",
       "</div>"
      ],
      "text/plain": [
       "   No.                           Official name (known as)          City  \\\n",
       "0    1                     Melbourne Cricket Ground (MCG)     Melbourne   \n",
       "1    2                        Old Trafford Cricket Ground    Manchester   \n",
       "2    3                                             Lord's        London   \n",
       "3    4                           Edgbaston Cricket Ground    Birmingham   \n",
       "4    5  AMI Stadium (formerly Jade Stadium and Lancast...  Christchurch   \n",
       "\n",
       "       Country       First match            Last match  Matches  \n",
       "0    Australia    5 January 1971   18 January 2019 [2]  149 [3]  \n",
       "1      England    24 August 1972       9 July 2019 [4]   52 [5]  \n",
       "2      England    26 August 1972      14 July 2019 [6]   66 [7]  \n",
       "3      England    28 August 1972      11 July 2019 [8]   63 [9]  \n",
       "4  New Zealand  11 February 1973  29 January 2011 [10]  48 [11]  "
      ]
     },
     "execution_count": 1322,
     "metadata": {},
     "output_type": "execute_result"
    }
   ],
   "source": [
    "# html_object_page = urlopen(\"https://en.wikipedia.org/w/index.php?title=List_of_One_Day_International_cricket_grounds&oldid=945313988\")         \n",
    "# bs_obj_page = BeautifulSoup(html_object_page, \"lxml\")                      # get BS object\n",
    "# grounds_table = bs_obj_page.find(\"table\", {\"class\": \"wikitable sortable\"}) # go to the right table\n",
    "# grounds_df = pd.read_html(str(grounds_table))[0]                           # convert html to dataframe\n",
    "\n",
    "# grounds_df.to_csv(\"grounds_wiki.csv\", index = False)\n",
    "\n",
    "grounds_df = pd.read_csv(\"grounds_wiki.csv\")\n",
    "\n",
    "grounds_df.head()"
   ]
  },
  {
   "cell_type": "markdown",
   "metadata": {},
   "source": [
    "Now that we have information about Stadiums, let us clean it up in preparation for matching with the grounds info from ball by ball data. The same cleaning up process to be done for ground info from ball by ball data as well. "
   ]
  },
  {
   "cell_type": "code",
   "execution_count": 1323,
   "metadata": {},
   "outputs": [
    {
     "data": {
      "text/html": [
       "<div>\n",
       "<style scoped>\n",
       "    .dataframe tbody tr th:only-of-type {\n",
       "        vertical-align: middle;\n",
       "    }\n",
       "\n",
       "    .dataframe tbody tr th {\n",
       "        vertical-align: top;\n",
       "    }\n",
       "\n",
       "    .dataframe thead th {\n",
       "        text-align: right;\n",
       "    }\n",
       "</style>\n",
       "<table border=\"1\" class=\"dataframe\">\n",
       "  <thead>\n",
       "    <tr style=\"text-align: right;\">\n",
       "      <th></th>\n",
       "      <th>ground_name</th>\n",
       "      <th>country</th>\n",
       "      <th>ground_name_adj</th>\n",
       "    </tr>\n",
       "  </thead>\n",
       "  <tbody>\n",
       "    <tr>\n",
       "      <th>0</th>\n",
       "      <td>Melbourne Cricket Ground (MCG)</td>\n",
       "      <td>Australia</td>\n",
       "      <td>Melbourne</td>\n",
       "    </tr>\n",
       "    <tr>\n",
       "      <th>1</th>\n",
       "      <td>Old Trafford Cricket Ground</td>\n",
       "      <td>England</td>\n",
       "      <td>Old Trafford</td>\n",
       "    </tr>\n",
       "    <tr>\n",
       "      <th>2</th>\n",
       "      <td>Lord's</td>\n",
       "      <td>England</td>\n",
       "      <td>Lord's</td>\n",
       "    </tr>\n",
       "    <tr>\n",
       "      <th>3</th>\n",
       "      <td>Edgbaston Cricket Ground</td>\n",
       "      <td>England</td>\n",
       "      <td>Edgbaston</td>\n",
       "    </tr>\n",
       "    <tr>\n",
       "      <th>4</th>\n",
       "      <td>AMI Stadium (formerly Jade Stadium and Lancast...</td>\n",
       "      <td>New Zealand</td>\n",
       "      <td>AMI</td>\n",
       "    </tr>\n",
       "  </tbody>\n",
       "</table>\n",
       "</div>"
      ],
      "text/plain": [
       "                                         ground_name      country  \\\n",
       "0                     Melbourne Cricket Ground (MCG)    Australia   \n",
       "1                        Old Trafford Cricket Ground      England   \n",
       "2                                             Lord's      England   \n",
       "3                           Edgbaston Cricket Ground      England   \n",
       "4  AMI Stadium (formerly Jade Stadium and Lancast...  New Zealand   \n",
       "\n",
       "  ground_name_adj  \n",
       "0       Melbourne  \n",
       "1    Old Trafford  \n",
       "2          Lord's  \n",
       "3       Edgbaston  \n",
       "4             AMI  "
      ]
     },
     "execution_count": 1323,
     "metadata": {},
     "output_type": "execute_result"
    }
   ],
   "source": [
    "grounds_df.drop(['No.', 'City', 'First match', 'Last match', 'Matches'], axis = 1, inplace = True)\n",
    "grounds_df.rename(columns = {\"Official name (known as)\": \"ground_name\", \"Country\": \"country\"}, inplace = True)\n",
    "\n",
    "# remove all data in parantheses, and words like Stadium, Ground, Park, Cricketa\n",
    "grounds_df['ground_name_adj'] = grounds_df['ground_name'].str.replace(r\"\\(.*\\)\",\"\") \n",
    "grounds_df['ground_name_adj'] = grounds_df['ground_name_adj'].str.replace(r\"Ground\",\"\") \n",
    "grounds_df['ground_name_adj'] = grounds_df['ground_name_adj'].str.replace(r\"Stadium\",\"\") \n",
    "grounds_df['ground_name_adj'] = grounds_df['ground_name_adj'].str.replace(r\"Cricket\",\"\") \n",
    "grounds_df['ground_name_adj'] = grounds_df['ground_name_adj'].str.strip()\n",
    "\n",
    "grounds_df.head()"
   ]
  },
  {
   "cell_type": "code",
   "execution_count": 1324,
   "metadata": {},
   "outputs": [
    {
     "data": {
      "text/html": [
       "<div>\n",
       "<style scoped>\n",
       "    .dataframe tbody tr th:only-of-type {\n",
       "        vertical-align: middle;\n",
       "    }\n",
       "\n",
       "    .dataframe tbody tr th {\n",
       "        vertical-align: top;\n",
       "    }\n",
       "\n",
       "    .dataframe thead th {\n",
       "        text-align: right;\n",
       "    }\n",
       "</style>\n",
       "<table border=\"1\" class=\"dataframe\">\n",
       "  <thead>\n",
       "    <tr style=\"text-align: right;\">\n",
       "      <th></th>\n",
       "      <th>ground_name</th>\n",
       "      <th>ground_name_adj</th>\n",
       "    </tr>\n",
       "  </thead>\n",
       "  <tbody>\n",
       "    <tr>\n",
       "      <th>0</th>\n",
       "      <td>AMI Stadium</td>\n",
       "      <td>AMI</td>\n",
       "    </tr>\n",
       "    <tr>\n",
       "      <th>1</th>\n",
       "      <td>Westpac Stadium</td>\n",
       "      <td>Westpac</td>\n",
       "    </tr>\n",
       "    <tr>\n",
       "      <th>2</th>\n",
       "      <td>Brisbane Cricket Ground, Woolloongabba</td>\n",
       "      <td>Brisbane</td>\n",
       "    </tr>\n",
       "    <tr>\n",
       "      <th>3</th>\n",
       "      <td>Docklands Stadium</td>\n",
       "      <td>Docklands</td>\n",
       "    </tr>\n",
       "    <tr>\n",
       "      <th>4</th>\n",
       "      <td>Sydney Cricket Ground</td>\n",
       "      <td>Sydney</td>\n",
       "    </tr>\n",
       "  </tbody>\n",
       "</table>\n",
       "</div>"
      ],
      "text/plain": [
       "                              ground_name ground_name_adj\n",
       "0                             AMI Stadium             AMI\n",
       "1                         Westpac Stadium         Westpac\n",
       "2  Brisbane Cricket Ground, Woolloongabba        Brisbane\n",
       "3                       Docklands Stadium       Docklands\n",
       "4                   Sydney Cricket Ground          Sydney"
      ]
     },
     "execution_count": 1324,
     "metadata": {},
     "output_type": "execute_result"
    }
   ],
   "source": [
    "all_grounds_df = pd.DataFrame(all_grounds, columns = ['ground_name'])\n",
    "\n",
    "# remove all data in parantheses, and words like Stadium, Ground, Park, Cricket\n",
    "all_grounds_df['ground_name_adj'] = all_grounds_df['ground_name'].str.replace(r\"\\(.*\\)\",\"\") \n",
    "all_grounds_df['ground_name_adj'] = all_grounds_df['ground_name_adj'].str.replace(r\"\\,(.*)\",\"\")\n",
    "all_grounds_df['ground_name_adj'] = all_grounds_df['ground_name_adj'].str.replace(r\"Ground\",\"\") \n",
    "all_grounds_df['ground_name_adj'] = all_grounds_df['ground_name_adj'].str.replace(r\"Stadium\",\"\") \n",
    "all_grounds_df['ground_name_adj'] = all_grounds_df['ground_name_adj'].str.replace(r\"Cricket\",\"\") \n",
    "all_grounds_df['ground_name_adj'] = all_grounds_df['ground_name_adj'].str.strip()\n",
    "\n",
    "all_grounds_df.head()"
   ]
  },
  {
   "cell_type": "markdown",
   "metadata": {},
   "source": [
    "Now, to merge the dataframes using difflib such that small changes can also be caught. <br>\n",
    "eg. 'MA Chidambaram' can be matched to 'M. A. Chidambaram' <br>\n",
    "There are two National Stadiums - one in Pakistan and one in the Carribean. They can be handles manually. "
   ]
  },
  {
   "cell_type": "code",
   "execution_count": 1325,
   "metadata": {},
   "outputs": [
    {
     "data": {
      "text/html": [
       "<div>\n",
       "<style scoped>\n",
       "    .dataframe tbody tr th:only-of-type {\n",
       "        vertical-align: middle;\n",
       "    }\n",
       "\n",
       "    .dataframe tbody tr th {\n",
       "        vertical-align: top;\n",
       "    }\n",
       "\n",
       "    .dataframe thead th {\n",
       "        text-align: right;\n",
       "    }\n",
       "</style>\n",
       "<table border=\"1\" class=\"dataframe\">\n",
       "  <thead>\n",
       "    <tr style=\"text-align: right;\">\n",
       "      <th></th>\n",
       "      <th>ground_name</th>\n",
       "      <th>country</th>\n",
       "    </tr>\n",
       "  </thead>\n",
       "  <tbody>\n",
       "    <tr>\n",
       "      <th>0</th>\n",
       "      <td>AMI Stadium</td>\n",
       "      <td>New Zealand</td>\n",
       "    </tr>\n",
       "    <tr>\n",
       "      <th>1</th>\n",
       "      <td>Westpac Stadium</td>\n",
       "      <td>New Zealand</td>\n",
       "    </tr>\n",
       "    <tr>\n",
       "      <th>2</th>\n",
       "      <td>Brisbane Cricket Ground, Woolloongabba</td>\n",
       "      <td>Australia</td>\n",
       "    </tr>\n",
       "    <tr>\n",
       "      <th>3</th>\n",
       "      <td>Docklands Stadium</td>\n",
       "      <td>Australia</td>\n",
       "    </tr>\n",
       "    <tr>\n",
       "      <th>4</th>\n",
       "      <td>Sydney Cricket Ground</td>\n",
       "      <td>Australia</td>\n",
       "    </tr>\n",
       "  </tbody>\n",
       "</table>\n",
       "</div>"
      ],
      "text/plain": [
       "                              ground_name      country\n",
       "0                             AMI Stadium  New Zealand\n",
       "1                         Westpac Stadium  New Zealand\n",
       "2  Brisbane Cricket Ground, Woolloongabba    Australia\n",
       "3                       Docklands Stadium    Australia\n",
       "4                   Sydney Cricket Ground    Australia"
      ]
     },
     "execution_count": 1325,
     "metadata": {},
     "output_type": "execute_result"
    }
   ],
   "source": [
    "# we will use this as the merge key\n",
    "all_grounds_df['merge_name'] = ''  \n",
    "\n",
    "wiki_grounds_list = grounds_df['ground_name_adj'].to_list()\n",
    "\n",
    "for index, row in all_grounds_df.iterrows():\n",
    "    \n",
    "    # there are two National Grounds - will handle manually at the end\n",
    "    if row.ground_name_adj == \"National\":\n",
    "        continue\n",
    "        \n",
    "    closest_match = 0.0                                          # default value of 0% match\n",
    "    \n",
    "    for ground_name_a in wiki_grounds_list:\n",
    "        match_percentage = difflib.SequenceMatcher(None, ground_name_a, row.ground_name_adj).ratio()\n",
    "        \n",
    "        # only consider as match if no better match already available and this match is better than 85%\n",
    "        if ((match_percentage > 0.50) & (match_percentage > closest_match)):          \n",
    "            all_grounds_df.loc[index, 'merge_name'] = ground_name_a   \n",
    "            closest_match = match_percentage                     # update best match percentage\n",
    "        \n",
    "        # break if perfect match available - it's not gonna get better and saves time\n",
    "        if (closest_match == 1):                 \n",
    "            break\n",
    "\n",
    "# matching ground to country, dropping redundant columns, renaming columns\n",
    "ground_country_df = pd.merge(left = all_grounds_df, right = grounds_df, how = 'left', \n",
    "                             left_on = 'merge_name', right_on = 'ground_name_adj')\n",
    "ground_country_df.drop(['ground_name_adj_x', 'merge_name', 'ground_name_y', 'ground_name_adj_y'], \n",
    "                       axis = 1, inplace = True)\n",
    "ground_country_df.rename(columns = {\"ground_name_x\": \"ground_name\"}, inplace = True)\n",
    "\n",
    "# manually handling the two National Stadiums\n",
    "ground_country_df.loc[ground_country_df['ground_name'] == 'National Cricket Stadium, St George\\'s', 'country'] = \\\n",
    "                                                                                                'Grenada'\n",
    "ground_country_df.loc[ground_country_df['ground_name'] == 'National Stadium', 'country'] = 'Pakistan'\n",
    "\n",
    "# changing all Carribean countries to 'West Indies'\n",
    "ground_country_df['country'].replace({'Grenada': 'West Indies', \n",
    "                                      'Barbados': 'West Indies', \n",
    "                                      'Trinidad & Tobago': 'West Indies', \n",
    "                                      'Guyana': 'West Indies', \n",
    "                                      'Antigua & Barbuda': 'West Indies',\n",
    "                                      'Dominica': 'West Indies',\n",
    "                                      'Jamaica': 'West Indies',\n",
    "                                      'St Kitts & Nevis': 'West Indies',\n",
    "                                      'Saint Vincent': 'West Indies'\n",
    "                                     }, inplace = True)\n",
    "\n",
    "# drop any duplicates that might have come up\n",
    "ground_country_df.drop_duplicates(subset = ['ground_name', 'country'], keep = 'first', inplace = True)\n",
    "\n",
    "ground_country_df.head(5)"
   ]
  },
  {
   "cell_type": "markdown",
   "metadata": {},
   "source": [
    "Now, inputting these country names into matches_df"
   ]
  },
  {
   "cell_type": "code",
   "execution_count": 1326,
   "metadata": {},
   "outputs": [
    {
     "data": {
      "text/html": [
       "<div>\n",
       "<style scoped>\n",
       "    .dataframe tbody tr th:only-of-type {\n",
       "        vertical-align: middle;\n",
       "    }\n",
       "\n",
       "    .dataframe tbody tr th {\n",
       "        vertical-align: top;\n",
       "    }\n",
       "\n",
       "    .dataframe thead th {\n",
       "        text-align: right;\n",
       "    }\n",
       "</style>\n",
       "<table border=\"1\" class=\"dataframe\">\n",
       "  <thead>\n",
       "    <tr style=\"text-align: right;\">\n",
       "      <th></th>\n",
       "      <th>match_id</th>\n",
       "      <th>team_1</th>\n",
       "      <th>team_2</th>\n",
       "      <th>date</th>\n",
       "      <th>year</th>\n",
       "      <th>toss_winner</th>\n",
       "      <th>toss_decision</th>\n",
       "      <th>match_winner</th>\n",
       "      <th>dl_used</th>\n",
       "      <th>ground_name</th>\n",
       "      <th>ground_country</th>\n",
       "    </tr>\n",
       "  </thead>\n",
       "  <tbody>\n",
       "    <tr>\n",
       "      <th>0</th>\n",
       "      <td>226391</td>\n",
       "      <td>New Zealand</td>\n",
       "      <td>Sri Lanka</td>\n",
       "      <td>2006-01-03</td>\n",
       "      <td>2006</td>\n",
       "      <td>New Zealand</td>\n",
       "      <td>field</td>\n",
       "      <td>New Zealand</td>\n",
       "      <td>NaN</td>\n",
       "      <td>AMI Stadium</td>\n",
       "      <td>New Zealand</td>\n",
       "    </tr>\n",
       "    <tr>\n",
       "      <th>1</th>\n",
       "      <td>226392</td>\n",
       "      <td>New Zealand</td>\n",
       "      <td>Sri Lanka</td>\n",
       "      <td>2006-01-06</td>\n",
       "      <td>2006</td>\n",
       "      <td>New Zealand</td>\n",
       "      <td>bat</td>\n",
       "      <td>New Zealand</td>\n",
       "      <td>NaN</td>\n",
       "      <td>Westpac Stadium</td>\n",
       "      <td>New Zealand</td>\n",
       "    </tr>\n",
       "    <tr>\n",
       "      <th>2</th>\n",
       "      <td>226375</td>\n",
       "      <td>Australia</td>\n",
       "      <td>South Africa</td>\n",
       "      <td>2006-01-15</td>\n",
       "      <td>2006</td>\n",
       "      <td>Australia</td>\n",
       "      <td>bat</td>\n",
       "      <td>South Africa</td>\n",
       "      <td>NaN</td>\n",
       "      <td>Brisbane Cricket Ground, Woolloongabba</td>\n",
       "      <td>Australia</td>\n",
       "    </tr>\n",
       "    <tr>\n",
       "      <th>3</th>\n",
       "      <td>226383</td>\n",
       "      <td>South Africa</td>\n",
       "      <td>Sri Lanka</td>\n",
       "      <td>2006-01-17</td>\n",
       "      <td>2006</td>\n",
       "      <td>South Africa</td>\n",
       "      <td>field</td>\n",
       "      <td>Sri Lanka</td>\n",
       "      <td>NaN</td>\n",
       "      <td>Brisbane Cricket Ground, Woolloongabba</td>\n",
       "      <td>Australia</td>\n",
       "    </tr>\n",
       "    <tr>\n",
       "      <th>4</th>\n",
       "      <td>226376</td>\n",
       "      <td>Australia</td>\n",
       "      <td>South Africa</td>\n",
       "      <td>2006-01-20</td>\n",
       "      <td>2006</td>\n",
       "      <td>Australia</td>\n",
       "      <td>bat</td>\n",
       "      <td>Australia</td>\n",
       "      <td>NaN</td>\n",
       "      <td>Docklands Stadium</td>\n",
       "      <td>Australia</td>\n",
       "    </tr>\n",
       "  </tbody>\n",
       "</table>\n",
       "</div>"
      ],
      "text/plain": [
       "   match_id        team_1        team_2        date  year   toss_winner  \\\n",
       "0    226391   New Zealand     Sri Lanka  2006-01-03  2006   New Zealand   \n",
       "1    226392   New Zealand     Sri Lanka  2006-01-06  2006   New Zealand   \n",
       "2    226375     Australia  South Africa  2006-01-15  2006     Australia   \n",
       "3    226383  South Africa     Sri Lanka  2006-01-17  2006  South Africa   \n",
       "4    226376     Australia  South Africa  2006-01-20  2006     Australia   \n",
       "\n",
       "  toss_decision  match_winner dl_used                             ground_name  \\\n",
       "0         field   New Zealand     NaN                             AMI Stadium   \n",
       "1           bat   New Zealand     NaN                         Westpac Stadium   \n",
       "2           bat  South Africa     NaN  Brisbane Cricket Ground, Woolloongabba   \n",
       "3         field     Sri Lanka     NaN  Brisbane Cricket Ground, Woolloongabba   \n",
       "4           bat     Australia     NaN                       Docklands Stadium   \n",
       "\n",
       "  ground_country  \n",
       "0    New Zealand  \n",
       "1    New Zealand  \n",
       "2      Australia  \n",
       "3      Australia  \n",
       "4      Australia  "
      ]
     },
     "execution_count": 1326,
     "metadata": {},
     "output_type": "execute_result"
    }
   ],
   "source": [
    "matches_df = pd.merge(left = matches_df, right = ground_country_df, how = 'left', \n",
    "                             left_on = 'ground', right_on = 'ground_name')\n",
    "matches_df.drop(['ground'], axis = 1, inplace = True)\n",
    "matches_df.rename(columns = {'country': 'ground_country'}, inplace = True)\n",
    "\n",
    "matches_df.head()"
   ]
  },
  {
   "cell_type": "markdown",
   "metadata": {},
   "source": [
    "All good here. \n",
    "## 3. Tracking Changing Trends Over the Years\n",
    "First things first, we need to split the time period to observe trends. One obvious candidate is using the world cups to split the data into different periods. This might not give equal number of matches to each of the periods. Another option is to just select roughly equal number of matches. <br><br>\n",
    "It would probably be better to go with the World Cup approach as World Cups sometimes signify significant rule changes as well as major changes in personnel. Both of these make World Cups very good points to split the data. <br><br>\n",
    "This also means that there are very few matches after the 2019 World Cup (fewer than a 100) - therefore, removing those also from the analysis. <br>\n",
    "The World Cup ending dates are:\n",
    "* 28th April 2007\n",
    "* 2nd April 2011\n",
    "* 29th March 2015\n",
    "* 14th July 2019"
   ]
  },
  {
   "cell_type": "code",
   "execution_count": 1327,
   "metadata": {},
   "outputs": [
    {
     "ename": "TypeError",
     "evalue": "'>' not supported between instances of 'numpy.ndarray' and 'str'",
     "output_type": "error",
     "traceback": [
      "\u001b[0;31m---------------------------------------------------------------------------\u001b[0m",
      "\u001b[0;31mTypeError\u001b[0m                                 Traceback (most recent call last)",
      "\u001b[0;32m<ipython-input-1327-e2be52d3ee1f>\u001b[0m in \u001b[0;36m<module>\u001b[0;34m\u001b[0m\n\u001b[1;32m      1\u001b[0m \u001b[0;31m# naming the different time periods\u001b[0m\u001b[0;34m\u001b[0m\u001b[0;34m\u001b[0m\u001b[0;34m\u001b[0m\u001b[0m\n\u001b[0;32m----> 2\u001b[0;31m \u001b[0mmatches_df\u001b[0m\u001b[0;34m.\u001b[0m\u001b[0mloc\u001b[0m\u001b[0;34m[\u001b[0m\u001b[0mmatches_df\u001b[0m\u001b[0;34m[\u001b[0m\u001b[0;34m'date'\u001b[0m\u001b[0;34m]\u001b[0m \u001b[0;34m<\u001b[0m \u001b[0mnp\u001b[0m\u001b[0;34m.\u001b[0m\u001b[0mdatetime64\u001b[0m\u001b[0;34m(\u001b[0m\u001b[0;34m'2007-04-29'\u001b[0m\u001b[0;34m)\u001b[0m\u001b[0;34m,\u001b[0m \u001b[0;34m'split'\u001b[0m\u001b[0;34m]\u001b[0m \u001b[0;34m=\u001b[0m \u001b[0;34m'WC03-WC07'\u001b[0m\u001b[0;34m\u001b[0m\u001b[0;34m\u001b[0m\u001b[0m\n\u001b[0m\u001b[1;32m      3\u001b[0m matches_df.loc[(matches_df['date'] < np.datetime64('2011-04-03')) & \n\u001b[1;32m      4\u001b[0m                (matches_df['date'] > np.datetime64('2007-04-29')), 'split'] = 'WC07-WC11'\n\u001b[1;32m      5\u001b[0m matches_df.loc[(matches_df['date'] < np.datetime64('2015-03-30')) & \n",
      "\u001b[0;32m~/anaconda3/lib/python3.7/site-packages/pandas/core/ops/__init__.py\u001b[0m in \u001b[0;36mwrapper\u001b[0;34m(self, other, axis)\u001b[0m\n",
      "\u001b[0;32m~/anaconda3/lib/python3.7/site-packages/pandas/core/ops/__init__.py\u001b[0m in \u001b[0;36mna_op\u001b[0;34m(x, y)\u001b[0m\n",
      "\u001b[0;32m~/anaconda3/lib/python3.7/site-packages/pandas/core/ops/__init__.py\u001b[0m in \u001b[0;36m_comp_method_OBJECT_ARRAY\u001b[0;34m(op, x, y)\u001b[0m\n",
      "\u001b[0;32mpandas/_libs/ops.pyx\u001b[0m in \u001b[0;36mpandas._libs.ops.scalar_compare\u001b[0;34m()\u001b[0m\n",
      "\u001b[0;31mTypeError\u001b[0m: '>' not supported between instances of 'numpy.ndarray' and 'str'"
     ]
    }
   ],
   "source": [
    "# naming the different time periods\n",
    "matches_df.loc[matches_df['date'] < np.datetime64('2007-04-29'), 'split'] = 'WC03-WC07'\n",
    "matches_df.loc[(matches_df['date'] < np.datetime64('2011-04-03')) & \n",
    "               (matches_df['date'] > np.datetime64('2007-04-29')), 'split'] = 'WC07-WC11'\n",
    "matches_df.loc[(matches_df['date'] < np.datetime64('2015-03-30')) & \n",
    "               (matches_df['date'] > np.datetime64('2011-04-03')), 'split'] = 'WC11-WC15'\n",
    "matches_df.loc[(matches_df['date'] < np.datetime64('2019-07-15')) & \n",
    "               (matches_df['date'] > np.datetime64('2015-03-30')), 'split'] = 'WC15-WC19'\n",
    "matches_df.loc[(matches_df['date'] > np.datetime64('2019-07-15')), 'split'] = 'post2019'\n",
    "\n",
    "matches_df.groupby('split').count()"
   ]
  },
  {
   "cell_type": "markdown",
   "metadata": {},
   "source": [
    "We can see that all data has been split well. Also, post 2019 World Cup, these are only 17 matches. We will discard these from the analysis."
   ]
  },
  {
   "cell_type": "code",
   "execution_count": null,
   "metadata": {},
   "outputs": [],
   "source": [
    "matches_df = matches_df[matches_df['split'] != 'post2019']\n",
    "\n",
    "match_ids = matches_df['match_id'].unique().tolist()\n",
    "full_df = full_df[full_df['match_id'].isin(match_ids)]\n",
    "\n",
    "print(len(full_df['match_id'].unique()), len(match_ids))"
   ]
  },
  {
   "cell_type": "markdown",
   "metadata": {},
   "source": [
    "Hmm. This is interesting. The number of unique matches in the full_df is less than the number from matches_df. This is because we did not add ball by ball details of matches where there were miscounting in balls into full_df. There would be no point in keeping details of those matches in matches_df either. Let us delete those."
   ]
  },
  {
   "cell_type": "code",
   "execution_count": null,
   "metadata": {},
   "outputs": [],
   "source": [
    "match_ids = full_df['match_id'].unique().tolist()\n",
    "matches_df = matches_df[matches_df['match_id'].isin(match_ids)]\n",
    "\n",
    "print(len(full_df['match_id'].unique()), len(match_ids))"
   ]
  },
  {
   "cell_type": "markdown",
   "metadata": {},
   "source": [
    "Good. In all, we are left with 1324 ODI matches from four different time periods for comparison. "
   ]
  },
  {
   "cell_type": "code",
   "execution_count": null,
   "metadata": {},
   "outputs": [],
   "source": [
    "df = matches_df['split'].value_counts().rename_axis('time_period').reset_index(name = 'no_matches')\n",
    "df = df.sort_values('time_period').reset_index().drop(['index'], axis = 1)\n",
    "\n",
    "df"
   ]
  },
  {
   "cell_type": "markdown",
   "metadata": {},
   "source": [
    "### 3.1 Scoring rate over the years\n",
    "Let us first start off by having a look at the run rate and how that has changed over the years. "
   ]
  },
  {
   "cell_type": "code",
   "execution_count": null,
   "metadata": {},
   "outputs": [],
   "source": [
    "# keep only run rate information at the end of innings and if more than 30 overs have been played (reduce outliers)\n",
    "inning_rr_df = full_df.copy()\n",
    "inning_rr_df['last_ball_no'] = \\\n",
    "        inning_rr_df.groupby(['match_id', 'innings'], sort = False)['ball_no'].transform(max)\n",
    "inning_rr_df = inning_rr_df[(inning_rr_df['ball_no'] == inning_rr_df['last_ball_no']) & \n",
    "                            (inning_rr_df['last_ball_no'] > 180)]\n",
    "inning_rr_df['run_rate'] = inning_rr_df['runs_cume'] / (inning_rr_df['ball_no'] / 6)\n",
    "inning_rr_df.drop(inning_rr_df.columns[2:13], axis = 1, inplace = True)\n",
    "inning_rr_df = pd.merge(left = inning_rr_df, right = matches_df[['match_id', 'split']], how = 'left', \n",
    "                             left_on = 'match_id', right_on = 'match_id')\n",
    "inning_rr_df['run_rate'] = inning_rr_df['run_rate'].astype('float')\n",
    "\n",
    "inning_rr_df.head()"
   ]
  },
  {
   "cell_type": "code",
   "execution_count": null,
   "metadata": {},
   "outputs": [],
   "source": [
    "fig = go.Figure()\n",
    "\n",
    "fig.add_trace(go.Box(\n",
    "    x = inning_rr_df.loc[inning_rr_df['innings'] == 'first_innings', 'split'],\n",
    "    y = inning_rr_df.loc[inning_rr_df['innings'] == 'first_innings', 'run_rate'],\n",
    "    name = 'First Innings',\n",
    "    boxpoints = False,\n",
    "    marker_color = '#1f77b4'\n",
    "))\n",
    "\n",
    "\n",
    "fig.add_trace(go.Box(\n",
    "    x = inning_rr_df.loc[inning_rr_df['innings'] == 'second_innings', 'split'],\n",
    "    y = inning_rr_df.loc[inning_rr_df['innings'] == 'second_innings', 'run_rate'],\n",
    "    name = 'Second Innings',\n",
    "    boxpoints = False,\n",
    "    marker_color = '#ff7f0e'\n",
    "))\n",
    "\n",
    "fig.update_layout(boxmode = 'group', template = \"plotly_white\", title = \"Run Rate Box Plots\", \n",
    "                  yaxis = dict(title = \"Run Rate\"))\n",
    "fig.show()"
   ]
  },
  {
   "cell_type": "markdown",
   "metadata": {},
   "source": [
    "Excellent. There are two things to note here. <br><br>\n",
    "One is that the **median run rates are going up over the years**. In each period considered, the median run rate has been higher that the previous. Before 2007 WC, the average run rate was under 5 an over while at present it is close to 5.5 an over. It is also clear that **the biggest jump was after 2015 WC**. This was the time when many ODI teams, led by England, chose a more aggresive approach. (It might be interesting to look at the run rate trends for the different teams - particularly England's)<br><br>\n",
    "The other thing to note is that in the later years, higher scoring rates were acheived in the first innings. \n",
    "### 3.2 Scoring rate through the overs\n",
    "Now, let us look at any changes in run scoring patterns at different stages of the game. Few rule changes in ODI cricket through the years and their impact on the scoring pattern can be explored. <br><br>\n",
    "It is likely that matches affected by rain or any other interruptions will show different scoring patterns. For example, teams might look to accelerate earlier in a rain shortened game. Thus, we need to exclude matches that have been decided by Duckworth Lewis method as well as matches that were abandoned with no result. <br><br>\n",
    "With those matches excluded, we can find the run rate and runs scored in each over and average it out for each of the time periods."
   ]
  },
  {
   "cell_type": "code",
   "execution_count": null,
   "metadata": {},
   "outputs": [],
   "source": [
    "over_rr_df = full_df.copy()\n",
    "\n",
    "# remove matches where there were rain interruptions - these might change scoring patterns\n",
    "filtered_match_ids = matches_df.loc[(matches_df['dl_used'].isna()) & \n",
    "                                    (matches_df['match_winner'] != \"No Result\"), 'match_id']\n",
    "over_rr_df = over_rr_df[over_rr_df['match_id'].isin(filtered_match_ids)]\n",
    "\n",
    "# find run rate after each over and runs in each over\n",
    "over_rr_df['run_rate'] = over_rr_df['runs_cume'] / (over_rr_df['ball_no'] / 6)\n",
    "over_rr_df = over_rr_df[over_rr_df['ball_no'] % 6 == 0]\n",
    "over_rr_df['runs_in_over'] = \\\n",
    "        np.where(over_rr_df['ball_no'] == 6, over_rr_df['runs_cume'], over_rr_df['runs_cume'].diff())\n",
    "over_rr_df['over_no'] = (over_rr_df['ball_no'] / 6).astype(int)\n",
    "\n",
    "# add split column and remove unnecessary columns\n",
    "over_rr_df = pd.merge(left = over_rr_df, right = matches_df[['match_id', 'split']], how = 'left', \n",
    "                             left_on = 'match_id', right_on = 'match_id')\n",
    "over_rr_df['run_rate'] = over_rr_df['run_rate'].astype('float')\n",
    "over_rr_df['runs_in_over'] = over_rr_df['runs_in_over'].astype('float')\n",
    "over_rr_df = over_rr_df.loc[:, ['split', 'match_id', 'innings', 'over_no', 'runs_in_over', 'run_rate']]\n",
    "\n",
    "# group by overs and get average run-rate and runs per over \n",
    "over_rr_by_period_df = pd.DataFrame(over_rr_df.groupby([over_rr_df.split, \n",
    "                                                        over_rr_df.over_no])[['run_rate',\n",
    "                                                                              'runs_in_over']].aggregate('mean'))\n",
    "over_rr_by_period_df = pd.DataFrame(over_rr_by_period_df.to_records())\n",
    "\n",
    "over_rr_by_period_df"
   ]
  },
  {
   "cell_type": "markdown",
   "metadata": {},
   "source": [
    "Excellent. Moving on to plotting and analysis."
   ]
  },
  {
   "cell_type": "code",
   "execution_count": null,
   "metadata": {
    "scrolled": false
   },
   "outputs": [],
   "source": [
    "period_list = over_rr_by_period_df['split'].unique().tolist()\n",
    "traces = []\n",
    "\n",
    "# loop through the four periods\n",
    "for i in range(0, 4):\n",
    "    df = over_rr_by_period_df[over_rr_by_period_df['split'] == period_list[i]]\n",
    "    \n",
    "    # line plot for run rate\n",
    "    trace = go.Scatter(\n",
    "        x = df['over_no'],\n",
    "        y = df['run_rate'],\n",
    "        name = 'Run Rate',\n",
    "        visible = True if i == 0 else False,\n",
    "        hovertemplate = \"Average Run Rate After %{x} Overs: %{y:.3s}\",\n",
    "        marker_color = \"#33aa4a\"\n",
    "    )\n",
    "    traces.append(trace)\n",
    "    \n",
    "    # bar plot for runs in over\n",
    "    trace = go.Bar(\n",
    "        x = df['over_no'],\n",
    "        y = df['runs_in_over'],\n",
    "        name = 'Runs',\n",
    "        hovertemplate = \"Average Runs Scored in Over %{x}: %{y:.3s}\",\n",
    "        marker_color = \"#bbeebb\",\n",
    "        visible = True if i == 0 else False,\n",
    "        width = 0.8\n",
    "    )\n",
    "    traces.append(trace)\n",
    "\n",
    "# set the above traces as data - there are 8 in all (2 visible at a time)\n",
    "data = traces\n",
    "\n",
    "# set up buttons\n",
    "updatemenus = list([\n",
    "    dict(active = 0,                           # WC03-WC07 is active\n",
    "         type = \"buttons\", \n",
    "         direction = \"down\", \n",
    "         showactive = True,\n",
    "         buttons = list([\n",
    "            dict(label = \"WC03-WC07\", method = \"update\",\n",
    "                 args = [{\"visible\": [True, True, False, False, False, False, False, False]}]),\n",
    "            dict(label = \"WC07-WC11\", method = \"update\",\n",
    "                 args = [{\"visible\": [False, False, True, True, False, False, False, False]}]),\n",
    "            dict(label = \"WC11-WC15\", method = \"update\",\n",
    "                 args = [{\"visible\": [False, False, False, False, True, True, False, False]}]),\n",
    "            dict(label = \"WC15-WC19\", method = \"update\",\n",
    "                 args = [{\"visible\": [False, False, False, False, False, False, True, True]}])\n",
    "        ]),\n",
    "    )\n",
    "])\n",
    "\n",
    "# general layout stuff\n",
    "layout = dict(title = \"Run Scoring Patterns Against Overs\",\n",
    "              xaxis = dict(title = \"Overs\"),\n",
    "              yaxis = dict(title = \"Runs\", range = [0, 12]),\n",
    "              template = \"plotly_white\",\n",
    "              hovermode = \"x\",\n",
    "              updatemenus = updatemenus)\n",
    "\n",
    "# Create and show fig\n",
    "fig = dict(data = data, layout = layout)\n",
    "pio.show(fig)"
   ]
  },
  {
   "cell_type": "markdown",
   "metadata": {},
   "source": [
    "There are many interesting patterns that can be observed here. The first thing being that the run rate at all stages of the game has been increasing over the years - we have already seen this earlier. Across the time periods, the scoring pattern is similar in that teams start slowly and are happy to steadily accumulate runs during the middle overs and accelerate towards the end. Still, there are certain things we can see. <br><br>\n",
    "<b>WC03-WC07: </b>We can see two distinct places where the runs scored per over drops off from the previous overs. The first is coinciding with the end of fielding restrictions (at the end of 15 overs at the time) and the next is after 31 overs - when a new ball is taken. Batting teams are showing caution against the new ball. <br><br>\n",
    "<b>WC07-WC11: </b>The only major change we can see here is that the runs per over drops off sharply at the end of 10 overs - the end of mandatory powerplay as per the new rules. It is followed by a relatively quiet period through overs 11-20. This is the period when usually the bowling powerplay was taken. It seems counter-intuitive that that would be a period of lower rate of scoring. <br><br>\n",
    "<b>WC11-WC15: </b>Here also we can see the run rate dropping off after the mandatory 10 overs of powerplay. But, this was the era of the dreaded batting powerplay - the batting team gets to choose a block of 5 overs of fielding restrictions. This was usually taken towards the very end of the innings, particularly when batting first. This is reflected in the sharp increase in scoring in the last few overs. The increase is so stark that it is in fact more than the scoring rate in the last few overs of the WC15-WC19 time period as well. <br><br>\n",
    "<b>WC15-WC19: </b>To correct for the batting powerplay, now all fielding restrictions are pre-determined. There are 5 fielders allowed outside the circle in the last 10 overs. But, only 4 through the middle overs. Also, there are two new balls being used from either end now - meaning that neither ball gets older than 25 overs at any point and thus taking reverse swing out of the equation. Both these changes has meant that the scoring rate through the middle overs has increased starkly. These changes were made with the express intention of livening up the middle overs. They seemed to have met their goal - but, possibly at the expense of competition between bat and ball. We had earlier seen that the jump in run rate from WC11-WC15 to WC15-WC19 was the highest. The connsistently higher rate of scoring all through the middle overs contributes to that greatly. <br>\n",
    "### 3.3 Patterns in fall of wickets\n",
    "Now, let us get an understanding of when wickets fall and also see how it might have changed over the years. Removing rain interrupted matches as they might skew when teams get more aggresive and lose wickets."
   ]
  },
  {
   "cell_type": "code",
   "execution_count": null,
   "metadata": {},
   "outputs": [],
   "source": [
    "over_wkt_df = full_df.copy()\n",
    "\n",
    "# remove matches where there were rain interruptions - these might change wicket fall patterns\n",
    "filtered_match_ids = matches_df.loc[(matches_df['dl_used'].isna()) & \n",
    "                                    (matches_df['match_winner'] != \"No Result\"), 'match_id']\n",
    "over_wkt_df = over_wkt_df[over_wkt_df['match_id'].isin(filtered_match_ids)]\n",
    "\n",
    "# keep only rows with wickets and find their over number\n",
    "over_wkt_df = over_wkt_df[over_wkt_df['wicket'] != 0]\n",
    "over_wkt_df['over_no'] = np.ceil(over_wkt_df['ball_no'] / 6).astype(int)\n",
    "\n",
    "# add split column and remove unnecessary columns\n",
    "over_wkt_df = pd.merge(left = over_wkt_df, right = matches_df[['match_id', 'split']], how = 'left', \n",
    "                             left_on = 'match_id', right_on = 'match_id')\n",
    "over_wkt_df = over_wkt_df.loc[:, ['split', 'match_id', 'innings', 'over_no', 'wickets_cume']]\n",
    "\n",
    "over_wkt_df.head()"
   ]
  },
  {
   "cell_type": "code",
   "execution_count": null,
   "metadata": {},
   "outputs": [],
   "source": [
    "fig = go.Figure()\n",
    "\n",
    "fig.add_trace(go.Violin(x = over_wkt_df['split'][over_wkt_df['innings'] == 'first_innings' ],\n",
    "                        y = over_wkt_df['over_no'][over_wkt_df['innings'] == 'first_innings' ],\n",
    "                        name = 'First Innings', side = 'negative',\n",
    "                        line_color = '#ff7f0e')\n",
    "             )\n",
    "fig.add_trace(go.Violin(x = over_wkt_df['split'][over_wkt_df['innings'] == 'second_innings' ],\n",
    "                        y = over_wkt_df['over_no'][over_wkt_df['innings'] == 'second_innings' ],\n",
    "                        name = 'Second Innings', side = 'positive',\n",
    "                        line_color = '#1f77b4')\n",
    "             )\n",
    "\n",
    "fig.update_layout(violinmode = 'overlay', template = \"plotly_white\", title = 'Violin Plots - Loss of Wicket',\n",
    "                  yaxis = dict(title = 'Overs', autorange = 'reversed'))"
   ]
  },
  {
   "cell_type": "markdown",
   "metadata": {},
   "source": [
    "First of all, we need to address **two technical quirks in violin plots** that should be acknowledged before actually interpreting the plot. The plots starting before over 0 and extending beyong over 50 does not mean that there were wickets which fell before the innings started or after it ended. It is just a feature of kernal density estimation. So is the relative width of the plots for first and second innings. The second innings plot being wider does not suggest that more wickets fell in the second innigns - the density estimation functions for first and second innings are independent of each other. <br><br>\n",
    "Now, something that stands out is the marked difference in when the wickets are lost depending on whether you are batting first or second. The plots suggest that **teams batting first tend to save wickets for later** and turn up the aggression (and thus lose wickets in the process) late in the innings. This could be to get a measure of how well the pitch is playing and to adjust accordingly. But, when batting second and having a target in front of them, there is less of a pressing need to conserve wickets while reading the pitch. This is reflected in wickets falling more evenly throughout the innings. <br><br>\n",
    "Though the plots do not show much change across the different periods, something that can be seen is that **after WC 2015, there have been more wickets falling in the middle overs** as compared to earlier on in the innings. The rule changes to liven up the middle overs are clearly working. We had seen the same in the scoring patterns in [Section 3.2](#3.2-Scoring-rate-through-the-overs) as well. In any case, it is good to see that bowlers do not lose out entirely in the new order of things.\n",
    "### 3.4 Wickets lost in innings\n",
    "Now, let's take a look at the number of wickets that have fallen by the end of an innings. No need to remove the rain affected matches here as we do not need to look at overwise information - just removing matches with no results as those might include incomplete innings. "
   ]
  },
  {
   "cell_type": "code",
   "execution_count": null,
   "metadata": {},
   "outputs": [],
   "source": [
    "last_wkt_df = full_df.copy()\n",
    "\n",
    "filtered_match_ids = matches_df.loc[matches_df['match_winner'] != \"No Result\", 'match_id']\n",
    "last_wkt_df = last_wkt_df[last_wkt_df['match_id'].isin(filtered_match_ids)]\n",
    "\n",
    "# keep row only of last ball in each innings\n",
    "last_wkt_df['last_ball_no'] = last_wkt_df.groupby(['match_id', 'innings'], sort = False)['ball_no'].transform(max)\n",
    "last_wkt_df = last_wkt_df[(last_wkt_df['ball_no'] == last_wkt_df['last_ball_no'])]\n",
    "\n",
    "# add split column and remove unnecessary columns\n",
    "last_wkt_df = pd.merge(left = last_wkt_df, right = matches_df[['match_id', 'split']], how = 'left', \n",
    "                             left_on = 'match_id', right_on = 'match_id')\n",
    "last_wkt_df = last_wkt_df.loc[:, ['split', 'match_id', 'innings', 'wickets_cume']]\n",
    "last_wkt_df['wickets_cume'] = last_wkt_df['wickets_cume'].astype(int)\n",
    "\n",
    "last_wkt_df.head()"
   ]
  },
  {
   "cell_type": "code",
   "execution_count": null,
   "metadata": {},
   "outputs": [],
   "source": [
    "# aggregate to find avg wickets lost\n",
    "last_wkt_by_period_df_1 = \\\n",
    "    pd.DataFrame(last_wkt_df.groupby([last_wkt_df.split, last_wkt_df.innings])['wickets_cume'].aggregate('mean'))\n",
    "last_wkt_by_period_df_1 = pd.DataFrame(last_wkt_by_period_df_1.to_records())\n",
    "last_wkt_by_period_df_1.rename(columns = {'wickets_cume': 'avg_wkts_lost'}, inplace = True)\n",
    "\n",
    "# aggregate to find count of all outs\n",
    "last_wkt_df_1 = last_wkt_df[last_wkt_df['wickets_cume'] == 10]\n",
    "last_wkt_by_period_df_2 = \\\n",
    "    pd.DataFrame(last_wkt_df.groupby([last_wkt_df_1.split, last_wkt_df_1.innings])['wickets_cume'].aggregate('count'))\n",
    "last_wkt_by_period_df_2 = pd.DataFrame(last_wkt_by_period_df_2.to_records())\n",
    "last_wkt_by_period_df_2.rename(columns = {'wickets_cume': 'all_out_count'}, inplace = True)\n",
    "\n",
    "# aggregate to find count of all\n",
    "last_wkt_by_period_df_3 = \\\n",
    "    pd.DataFrame(last_wkt_df.groupby([last_wkt_df.split, last_wkt_df.innings])['wickets_cume'].aggregate('count'))\n",
    "last_wkt_by_period_df_3 = pd.DataFrame(last_wkt_by_period_df_3.to_records())\n",
    "last_wkt_by_period_df_3.rename(columns = {'wickets_cume': 'all_innings_count'}, inplace = True)\n",
    "\n",
    "# merge all three and find count of not all outs \n",
    "last_wkt_by_period_df = pd.merge(left = last_wkt_by_period_df_1, right = last_wkt_by_period_df_2, how = 'left', \n",
    "                             left_on = ['split', 'innings'], right_on = ['split', 'innings'])\n",
    "last_wkt_by_period_df = pd.merge(left = last_wkt_by_period_df, right = last_wkt_by_period_df_3, how = 'left', \n",
    "                             left_on = ['split', 'innings'], right_on = ['split', 'innings'])\n",
    "last_wkt_by_period_df['avg_wkts_lost'] = last_wkt_by_period_df['avg_wkts_lost'].round(1)\n",
    "\n",
    "last_wkt_by_period_df['not_all_out_count'] = last_wkt_by_period_df['all_innings_count'] - last_wkt_by_period_df['all_out_count']\n",
    "\n",
    "last_wkt_by_period_df.head()"
   ]
  },
  {
   "cell_type": "code",
   "execution_count": null,
   "metadata": {},
   "outputs": [],
   "source": [
    "titles = ['WC03-WC07<br>First Innings', 'WC07-WC11<br>First Innings', \n",
    "          'WC11-WC15<br>First Innings', 'WC15-WC19<br>First Innings', \n",
    "          'WC03-WC07<br>Second Innings', 'WC07-WC11<br>Second Innings', \n",
    "          'WC11-WC15<br>Second Innings', 'WC15-WC19<br>Second Innings']\n",
    "labels = ['All-out', 'Not all-out']\n",
    "colors = ['#d4d4d4', '#bbeebb']\n",
    "count = 0\n",
    "\n",
    "specs = [[{'type':'domain'}, {'type':'domain'}, {'type':'domain'}, {'type':'domain'}], \n",
    "         [{'type':'domain'}, {'type':'domain'}, {'type':'domain'}, {'type':'domain'}]]\n",
    "fig = make_subplots(rows = 2, cols = 4, specs = specs, \n",
    "                    subplot_titles = titles, horizontal_spacing = 0.01)\n",
    "\n",
    "\n",
    "for index, df_row in last_wkt_by_period_df.iterrows():\n",
    "    \n",
    "    values = [df_row['all_out_count'], df_row['not_all_out_count']]\n",
    "    \n",
    "    col = math.floor(count / 2) + 1\n",
    "    if (df_row['innings'] == 'first_innings'):\n",
    "        row = 1\n",
    "    else:\n",
    "        row = 2\n",
    "    \n",
    "    fig.add_trace(go.Pie(labels = labels, values = values, \n",
    "                         marker_colors = colors, name = titles[count]), \n",
    "                  row = row, col = col)\n",
    "    \n",
    "    count = count + 1\n",
    "\n",
    "fig2 = go.Figure(fig)\n",
    "fig2.update_traces(hole=.33)\n",
    "fig2.update_layout(title = \"Proportion of All-out Innings\")\n",
    "\n",
    "for i in range(8):\n",
    "    fig2.layout.annotations[i][\"font\"] = {'size': 12}\n",
    "\n",
    "fig2.show()\n",
    "\n",
    "\n",
    "\n",
    "\n",
    "fig1 = go.Figure()\n",
    "\n",
    "fig1.add_trace(go.Bar(\n",
    "    x = last_wkt_by_period_df.loc[last_wkt_by_period_df['innings'] == 'first_innings', 'split'],\n",
    "    y = last_wkt_by_period_df.loc[last_wkt_by_period_df['innings'] == 'first_innings', 'avg_wkts_lost'],\n",
    "    text = last_wkt_by_period_df.loc[last_wkt_by_period_df['innings'] == 'first_innings', 'avg_wkts_lost'],\n",
    "    textposition = 'inside',\n",
    "    textfont = dict(color = 'white'),\n",
    "    name = 'First Innings',\n",
    "    hoverinfo = 'skip',\n",
    "    marker_color = \"#1f77b4\",\n",
    "    width = 0.2\n",
    "))\n",
    "fig1.add_trace(go.Bar(\n",
    "    x = last_wkt_by_period_df.loc[last_wkt_by_period_df['innings'] == 'second_innings', 'split'],\n",
    "    y = last_wkt_by_period_df.loc[last_wkt_by_period_df['innings'] == 'second_innings', 'avg_wkts_lost'],\n",
    "    text = last_wkt_by_period_df.loc[last_wkt_by_period_df['innings'] == 'second_innings', 'avg_wkts_lost'],\n",
    "    textposition = 'inside',\n",
    "    textfont = dict(color = 'white'),\n",
    "    name = 'Second Innings',\n",
    "    hoverinfo = 'skip',\n",
    "    marker_color = \"#ff7f0e\",\n",
    "    width = 0.2\n",
    "))\n",
    "\n",
    "fig1.update_layout(barmode = 'group', template = \"plotly_white\", title = \"Average Wickets Lost Each Innings\", \n",
    "                  bargap = 0.58, yaxis = dict(title = \"Average Wickets Lost\"))\n",
    "\n",
    "fig1.show()"
   ]
  },
  {
   "cell_type": "markdown",
   "metadata": {},
   "source": [
    "The donut charts show that more than **one third of all ODI innings end with the batting team all-out.** I found this extremely surprising - I had always believed that batsmen had it easier than this. In fact, across the two innings and for each era (except one), at least 30% the innings end with all ten batsmen back in the pavilion. <br><br>\n",
    "We can see that **the proportion of innigns ending in all-out is higher in the second innings that the first.** This makes sense as there is no point in saving wickets if you are not close to chasing down the target. The best course of action would be to go harder at the target even at the cost of losing more wickets. It is intersting that after WC 2011, 40% of all second innings end with all wickets lost. After 2011 in fact, teams tend to get all out less often batting first and more often batting second as ealier.<br><br>\n",
    "Looking at the bar graph of total wickets lost by the end of innings - one thing that is clear is that **teams lose more wickets batting first** (even though we already saw that teams tend to get all out more while batting second). This could be because you would expect almost half of the matches to end with the team batting second winning - and that inherently means that they have wickets left.<br><br>\n",
    "It might be intersting to see how wickets lost change depending on if the team batting second won the match or lost it. In fact, let us do that now.\n",
    "#### 3.4.1 Wicket in second innings by success of chase\n",
    "First, to identify all matches which were won by teams chasing. "
   ]
  },
  {
   "cell_type": "code",
   "execution_count": null,
   "metadata": {},
   "outputs": [],
   "source": [
    "win_lose_mat_df = matches_df.copy()\n",
    "win_lose_mat_df = win_lose_mat_df[win_lose_mat_df['match_winner'] != 'No Result']\n",
    "win_lose_mat_df['won_batting_first'] = (((win_lose_mat_df['toss_winner'] == win_lose_mat_df['match_winner']) & \n",
    "                                         (win_lose_mat_df['toss_decision'] == 'bat')) | \n",
    "                                        ((win_lose_mat_df['toss_winner'] != win_lose_mat_df['match_winner']) & \n",
    "                                         (win_lose_mat_df['toss_decision'] == 'field')))\n",
    "\n",
    "last_wkt_df = full_df.copy()\n",
    "\n",
    "filtered_match_ids = win_lose_mat_df.loc[:, 'match_id']\n",
    "last_wkt_df = last_wkt_df[last_wkt_df['match_id'].isin(filtered_match_ids)]\n",
    "\n",
    "# keep row only of last balls of second innings\n",
    "last_wkt_df['last_ball_no'] = last_wkt_df.groupby(['match_id', 'innings'], sort = False)['ball_no'].transform(max)\n",
    "last_wkt_df = last_wkt_df[(last_wkt_df['ball_no'] == last_wkt_df['last_ball_no']) & \n",
    "                          (last_wkt_df['innings'] == 'second_innings')]\n",
    "\n",
    "# add split column and remove unnecessary columns\n",
    "last_wkt_df = pd.merge(left = last_wkt_df, \n",
    "                       right = win_lose_mat_df[['match_id', 'split', 'won_batting_first']], \n",
    "                       how = 'left', left_on = 'match_id', right_on = 'match_id')\n",
    "last_wkt_df = last_wkt_df.loc[:, ['split', 'match_id', 'innings', 'wickets_cume', 'won_batting_first']]\n",
    "last_wkt_df['wickets_cume'] = last_wkt_df['wickets_cume'].astype(int)\n",
    "\n",
    "last_wkt_df['won_chasing'] = ~(last_wkt_df['won_batting_first'])\n",
    "last_wkt_df.drop(['won_batting_first'], axis = 1, inplace = True)\n",
    "\n",
    "last_wkt_df.head()"
   ]
  },
  {
   "cell_type": "code",
   "execution_count": null,
   "metadata": {},
   "outputs": [],
   "source": [
    "# aggregate to find avg wickets lost\n",
    "last_wkt_by_period_df_1 = \\\n",
    "    pd.DataFrame(last_wkt_df.groupby([last_wkt_df.split, last_wkt_df.won_chasing])['wickets_cume'].aggregate('mean'))\n",
    "last_wkt_by_period_df_1 = pd.DataFrame(last_wkt_by_period_df_1.to_records())\n",
    "last_wkt_by_period_df_1.rename(columns = {'wickets_cume': 'avg_wkts_lost'}, inplace = True)\n",
    "\n",
    "# aggregate to find count of all outs\n",
    "last_wkt_df_1 = last_wkt_df[last_wkt_df['wickets_cume'] == 10]\n",
    "last_wkt_by_period_df_2 = \\\n",
    "    pd.DataFrame(last_wkt_df.groupby([last_wkt_df_1.split, last_wkt_df_1.won_chasing])['wickets_cume'].aggregate('count'))\n",
    "last_wkt_by_period_df_2 = pd.DataFrame(last_wkt_by_period_df_2.to_records())\n",
    "last_wkt_by_period_df_2.rename(columns = {'wickets_cume': 'all_out_count'}, inplace = True)\n",
    "\n",
    "# aggregate to find count of all\n",
    "last_wkt_by_period_df_3 = \\\n",
    "    pd.DataFrame(last_wkt_df.groupby([last_wkt_df.split, last_wkt_df.won_chasing])['wickets_cume'].aggregate('count'))\n",
    "last_wkt_by_period_df_3 = pd.DataFrame(last_wkt_by_period_df_3.to_records())\n",
    "last_wkt_by_period_df_3.rename(columns = {'wickets_cume': 'all_innings_count'}, inplace = True)\n",
    "\n",
    "# merge all three and find count of not all outs \n",
    "last_wkt_by_period_df = pd.merge(left = last_wkt_by_period_df_1, right = last_wkt_by_period_df_2, how = 'left', \n",
    "                             left_on = ['split', 'won_chasing'], right_on = ['split', 'won_chasing'])\n",
    "last_wkt_by_period_df = pd.merge(left = last_wkt_by_period_df, right = last_wkt_by_period_df_3, how = 'left', \n",
    "                             left_on = ['split', 'won_chasing'], right_on = ['split', 'won_chasing'])\n",
    "last_wkt_by_period_df['avg_wkts_lost'] = last_wkt_by_period_df['avg_wkts_lost'].round(1)\n",
    "\n",
    "last_wkt_by_period_df['not_all_out_count'] = last_wkt_by_period_df['all_innings_count'] - last_wkt_by_period_df['all_out_count']\n",
    "\n",
    "last_wkt_by_period_df"
   ]
  },
  {
   "cell_type": "code",
   "execution_count": null,
   "metadata": {},
   "outputs": [],
   "source": [
    "labels = ['All-out', 'Not all-out']\n",
    "colors = ['#d4d4d4', '#bbeebb']\n",
    "count = 0\n",
    "\n",
    "specs = [[{'type':'domain'}, {'type':'domain'}, {'type':'domain'}, {'type':'domain'}]]\n",
    "fig = make_subplots(rows = 1, cols = 4, specs = specs, horizontal_spacing = 0.06, vertical_spacing = 0.0)\n",
    "\n",
    "\n",
    "for index, df_row in last_wkt_by_period_df.iterrows():\n",
    "    \n",
    "    if (df_row.won_chasing == False):\n",
    "        values = [df_row['all_out_count'], df_row['not_all_out_count']]\n",
    "\n",
    "        col = count + 1\n",
    "        row = 1\n",
    "\n",
    "        fig.add_trace(go.Pie(labels = labels, values = values, title = df_row.split,\n",
    "                             marker_colors = colors, name = df_row.split), \n",
    "                             row = row, col = col)\n",
    "    \n",
    "        count = count + 1\n",
    "\n",
    "fig2 = go.Figure(fig)\n",
    "fig2.update_traces(hole=.45)\n",
    "fig2.update_layout(title = \"Proportion of All-out Second Innings Among Matches Lost Chasing\")\n",
    "\n",
    "\n",
    "fig2.show()\n",
    "\n",
    "\n",
    "\n",
    "\n",
    "fig1 = go.Figure()\n",
    "\n",
    "fig1.add_trace(go.Bar(\n",
    "    x = last_wkt_by_period_df.loc[last_wkt_by_period_df['won_chasing'] == True, 'split'],\n",
    "    y = last_wkt_by_period_df.loc[last_wkt_by_period_df['won_chasing'] == True, 'avg_wkts_lost'],\n",
    "    text = last_wkt_by_period_df.loc[last_wkt_by_period_df['won_chasing'] == True, 'avg_wkts_lost'],\n",
    "    textposition = 'inside',\n",
    "    name = 'Won Chasing',\n",
    "    hoverinfo = 'skip',\n",
    "    marker_color = \"#bbeebb\",\n",
    "    width = 0.2\n",
    "))\n",
    "fig1.add_trace(go.Bar(\n",
    "    x = last_wkt_by_period_df.loc[last_wkt_by_period_df['won_chasing'] == False, 'split'],\n",
    "    y = last_wkt_by_period_df.loc[last_wkt_by_period_df['won_chasing'] == False, 'avg_wkts_lost'],\n",
    "    text = last_wkt_by_period_df.loc[last_wkt_by_period_df['won_chasing'] == False, 'avg_wkts_lost'],\n",
    "    textposition = 'inside',\n",
    "    name = 'Lost Chasing',\n",
    "    hoverinfo = 'skip',\n",
    "    marker_color = \"#ff9090\",\n",
    "    width = 0.2\n",
    "))\n",
    "\n",
    "fig1.update_layout(barmode = 'group', template = \"plotly_white\", title = \"Average Wickets Lost in Second Innings\", \n",
    "                  bargap = 0.58, yaxis = dict(title = \"Average Wickets Lost\"))\n",
    "\n",
    "fig1.show()"
   ]
  },
  {
   "cell_type": "markdown",
   "metadata": {},
   "source": [
    "Excellent. This clears up a lot - as expected, a **large proportion of second innings that are lost chasing ends with the team all out** (at least three fourths in each period). Nothing much to be seen period wise in the donut charts apart from that between WC 2011 and WC 2015, more second innings ended with all batsmen out when losing the chase than the other periods. <br><br>\n",
    "And from the bar charts it is clear that teams hardly lose wickets when they win chasing - on average not even half of the wickets are lost. But, they **lose more than double that on average when they lose chasing**. In fact, the high averages seem to suggest that even when teams are not all-out, they are pretty close to. These figures have been remarkably consistent through the different periods - nothing to be gained from a period-wise comparison.\n",
    "### 3.5 Batting team wise average and run rate\n",
    "Let us see how different teams fared in their run scoring over the years. These are expected to reflect the quality of the batting lineups of each of the teams in each of the periods. "
   ]
  },
  {
   "cell_type": "code",
   "execution_count": null,
   "metadata": {},
   "outputs": [],
   "source": [
    "team_wise_df = full_df.copy()\n",
    "\n",
    "# keep row only of last ball in each innings\n",
    "team_wise_df['last_ball_no'] = team_wise_df.groupby(['match_id','innings'], sort = False)['ball_no'].transform(max)\n",
    "team_wise_df = team_wise_df[(team_wise_df['ball_no'] == team_wise_df['last_ball_no'])]\n",
    "\n",
    "# add split column and remove unnecessary columns\n",
    "team_wise_df = pd.merge(left = team_wise_df, right = matches_df[['match_id', 'split']], how = 'left', \n",
    "                        left_on = 'match_id', right_on = 'match_id')\n",
    "team_wise_df = team_wise_df.loc[:, ['split', 'match_id', 'batting_team', 'ball_no', 'runs_cume', 'wickets_cume']]\n",
    "team_wise_df['wickets_cume'] = team_wise_df['wickets_cume'].astype(int)\n",
    "\n",
    "# aggregate, find average and run_rate averages\n",
    "team_wise_by_period_df = team_wise_df.groupby(['split', 'batting_team']).agg({'ball_no':'sum',\n",
    "                                                                              'runs_cume':'sum', \n",
    "                                                                              'wickets_cume':'sum'})\n",
    "team_wise_by_period_df = pd.DataFrame(team_wise_by_period_df.to_records())\n",
    "team_wise_by_period_df['average'] = team_wise_by_period_df['runs_cume'] / team_wise_by_period_df['wickets_cume']\n",
    "team_wise_by_period_df['run_rate'] = team_wise_by_period_df['runs_cume'] / team_wise_by_period_df['ball_no'] * 6\n",
    "\n",
    "# manually adding rows for Afghanistan\n",
    "row = pd.DataFrame({'split': 'WC03-WC07', 'batting_team': 'Afghanistan'}, index = [0])\n",
    "team_wise_by_period_df = pd.concat([row, team_wise_by_period_df.iloc[0:]], sort = False).reset_index(drop = True)\n",
    "row = pd.DataFrame({'split': 'WC07-WC11', 'batting_team': 'Afghanistan'}, index = [12])\n",
    "team_wise_by_period_df = pd.concat([team_wise_by_period_df.iloc[:12], row, \n",
    "                                 team_wise_by_period_df.iloc[12:]], sort = False).reset_index(drop = True)\n",
    "\n",
    "# merge with aux data\n",
    "teams_df = pd.read_csv('teams.csv')\n",
    "team_wise_by_period_df = pd.merge(left = team_wise_by_period_df, right = teams_df, how = 'left', \n",
    "                                  left_on = 'batting_team', right_on = 'team')\n",
    "\n",
    "team_wise_by_period_df.head()"
   ]
  },
  {
   "cell_type": "code",
   "execution_count": null,
   "metadata": {},
   "outputs": [],
   "source": [
    "# Create figure with secondary y-axis\n",
    "fig = make_subplots(specs = [[{\"secondary_y\": True}]])\n",
    "period_list = team_wise_by_period_df['split'].unique().tolist()\n",
    "\n",
    "# loop through the four periods\n",
    "for i in range(0, 4):\n",
    "    df = team_wise_by_period_df[team_wise_by_period_df['split'] == period_list[i]]\n",
    "    \n",
    "    # line plot for run rate\n",
    "    fig.add_trace(go.Bar(\n",
    "        x = df['abbr'],\n",
    "        y = df['average'],\n",
    "        name = \"Average\", width = 0.5, marker = dict(color = \"#5aceff\"),\n",
    "        visible = True if i == 0 else False\n",
    "    ), secondary_y = False)\n",
    "    \n",
    "    # bar plot for runs in over\n",
    "    fig.add_trace(go.Scatter(\n",
    "        x = df['abbr'],\n",
    "        y = df['run_rate'],\n",
    "        name = \"Run Rate\", mode = 'markers', marker = dict(size = 20, color = \"#00a7f9\"),\n",
    "        visible = True if i == 0 else False\n",
    "    ), secondary_y = True)\n",
    "\n",
    "# set up buttons\n",
    "updatemenus = list([\n",
    "    dict(active = 0,                           # WC03-WC07 is active\n",
    "         type = \"buttons\", \n",
    "         direction = \"down\", \n",
    "         showactive = True,\n",
    "         buttons = list([\n",
    "            dict(label = \"WC03-WC07\", method = \"update\",\n",
    "                 args = [{\"visible\": [True, True, False, False, False, False, False, False]}]),\n",
    "            dict(label = \"WC07-WC11\", method = \"update\",\n",
    "                 args = [{\"visible\": [False, False, True, True, False, False, False, False]}]),\n",
    "            dict(label = \"WC11-WC15\", method = \"update\",\n",
    "                 args = [{\"visible\": [False, False, False, False, True, True, False, False]}]),\n",
    "            dict(label = \"WC15-WC19\", method = \"update\",\n",
    "                 args = [{\"visible\": [False, False, False, False, False, False, True, True]}])\n",
    "        ]),\n",
    "    )\n",
    "])\n",
    "\n",
    "fig.update_layout(template = \"plotly_white\", updatemenus = updatemenus, hovermode = 'x', \n",
    "                  title = \"Average and Run Rate by Batting Team\")\n",
    "\n",
    "fig.update_yaxes(title_text = \"Average\", range = [0, 60], showgrid = False, secondary_y = False)\n",
    "fig.update_yaxes(title_text = \"Run Rate\",  range = [0, 7], showgrid = False, secondary_y = True)\n",
    "\n",
    "fig.show()"
   ]
  },
  {
   "cell_type": "markdown",
   "metadata": {},
   "source": [
    "Before going into interpreting the above data, something to acknowledge is that both **batting averages and run rate depend a lot on the grounds** that the matches are played at. Since it is reasonable to consider that each team would play a disproportionate amount of matches in their own country, how batting friendly their home pitches are could have skewed the data above. For example, countries like India and New Zealand are known for having batting friendly. It is worth noting that it is difficult to say how much of the batting average and run rate values we can attribute to the strength of the batting line and how much of it to attribute to the pitches. In any case, we shall also look at how the grounds in the countries affect scoring in the next section. <br><br>\n",
    "**WC03-WC07:** This was the tail end of the era of Australian dominance. Both the average as well as the run rate of the Australian team stands head and shoulders above the rest. Till the end of 2015 World Cup, they remained the only team to average over 40. Notice also that Afghanistan has not started playing officially recognized ODI cricket yet and that there is a clear diffrence in quality between the top eight teams and the so called \"minnows\". <br><br>\n",
    "**WC07-WC11:** Post the 2007 World Cup, many Australian greats retired. Now, India and South Africa have joined Australia at the top. There is hardly anything to choose between the top three teams at this point. <br><br>\n",
    "**WC11-WC15:** Not a lot has changed here except that India and South Africa are putting some distance between themselves and Australia. Also, Afghanistan has started playing ODI matches and there is less to choose between the top eight teams and the \"minnows\". This could also have been because they were being excluded from the top flight of cricket and thus started playing each other a lot more. With slightly lower quality bowling, their batting stats could have improved<br><br>\n",
    "**WC15-WC19:** There have been small jumps in averages and run rates over the last few periods, but nothing like the jump that we see post 2015 World Cup. And nowhere more so than England. While India also has comparable average, England scores at a much higher pace - for the first time in the history of cricket, a team has consistently scored at more than a run a ball for an extended period. This is also the first time a team from outside the top eight has scored at a higher average and pace than a team from the top eight (Bangladesh over West Indies and Sri Lanka).<br><br>\n",
    "It is interesting to see how Bangladesh has risen over the years. In the beginning there is a large gulf between Bangladesh and the top eight teams. In each period, they have been improving their stats and post 2015 they have established themselves as one of the top teams. On the other hand both Sri Lanka and West Indies has falled behind the rest. \n",
    "#### 3.5.1 How grounds affect batting stats\n",
    "Now, let us have a quick look at the batting same batting stats in each country to get an idea of how batting friendly each of the countries are. Not seperating this out on the time periods."
   ]
  },
  {
   "cell_type": "code",
   "execution_count": null,
   "metadata": {},
   "outputs": [],
   "source": [
    "country_wise_df = full_df.copy()\n",
    "\n",
    "# keep row only of last ball in each innings\n",
    "country_wise_df['last_ball_no'] = country_wise_df.groupby(['match_id','innings'], \n",
    "                                                          sort = False)['ball_no'].transform(max)\n",
    "country_wise_df = country_wise_df[(country_wise_df['ball_no'] == country_wise_df['last_ball_no'])]\n",
    "\n",
    "# add split column and remove unnecessary columns\n",
    "country_wise_df = pd.merge(left = country_wise_df, right = matches_df[['match_id', 'ground_country']], \n",
    "                           how = 'left', left_on = 'match_id', right_on = 'match_id')\n",
    "country_wise_df = country_wise_df.loc[:, ['ground_country', 'ball_no', 'runs_cume', 'wickets_cume']]\n",
    "\n",
    "# # aggregate, find average and run_rate averages\n",
    "country_wise_df = country_wise_df.groupby('ground_country').agg({'ball_no':'sum', 'runs_cume':'sum', \n",
    "                                                                 'wickets_cume':'sum'})\n",
    "country_wise_df = pd.DataFrame(country_wise_df.to_records())\n",
    "country_wise_df['average'] = country_wise_df['runs_cume'] / country_wise_df['wickets_cume']\n",
    "country_wise_df['run_rate'] = country_wise_df['runs_cume'] / country_wise_df['ball_no'] * 6\n",
    "\n",
    "# remove data from countries except top 11 (no matches has happened in AFG)\n",
    "top_teams = ['Ireland', 'West Indies', 'India', 'Afghanistan', 'Sri Lanka', 'Pakistan', \n",
    "             'Bangladesh', 'New Zealand', 'England', 'Australia', 'Zimbabwe', 'South Africa']\n",
    "country_wise_df = country_wise_df[country_wise_df['ground_country'].isin(top_teams)]\n",
    "\n",
    "# merge with aux data\n",
    "teams_df = pd.read_csv('teams.csv')\n",
    "country_wise_df = pd.merge(left = country_wise_df, right = teams_df, how = 'left', \n",
    "                           left_on = 'ground_country', right_on = 'team')\n",
    "\n",
    "country_wise_df.head()"
   ]
  },
  {
   "cell_type": "code",
   "execution_count": null,
   "metadata": {},
   "outputs": [],
   "source": [
    "fig = make_subplots(specs = [[{\"secondary_y\": True}]])\n",
    "    \n",
    "# line plot for run rate\n",
    "fig.add_trace(go.Bar(\n",
    "    x = country_wise_df['abbr'],\n",
    "    y = country_wise_df['average'],\n",
    "    name = \"Average\", width = 0.5, marker = dict(color = \"#bbeebb\")), secondary_y = False)\n",
    "\n",
    "# bar plot for runs in over\n",
    "fig.add_trace(go.Scatter(\n",
    "    x = country_wise_df['abbr'],\n",
    "    y = country_wise_df['run_rate'],\n",
    "    name = \"Run Rate\", mode = 'markers', marker = dict(size = 20, color = \"#33aa4a\")), secondary_y = True)\n",
    "\n",
    "fig.update_layout(template = \"plotly_white\", hovermode = 'x', \n",
    "                  title = \"Average and Run Rate by Host Country\")\n",
    "\n",
    "fig.update_yaxes(title_text = \"Average\", range = [0, 50], showgrid = False, secondary_y = False)\n",
    "fig.update_yaxes(title_text = \"Run Rate\",  range = [0, 6], showgrid = False, secondary_y = True)\n",
    "\n",
    "fig.show()"
   ]
  },
  {
   "cell_type": "markdown",
   "metadata": {},
   "source": [
    "Big surprise. Matches in Pakistan show the highest average. The highest run rates are in New Zealand (smallish grounds) and England (who have hosted many high scoring matches since 2015). Can't think of a reason why Pakistani (who are known to have bowling friendly pitches, not to mention consistently strong bowling lineups) grounds return the best average. It could just be an abberation because of the smaller dataset we have for Pakistan - there have been no international cricket in Pakistan since 2009. <br><br>\n",
    "In any case, there doesn't seem to be much we can gain from here. The stats here seem to correlate a lot with the batting strength of the home teams (who play close to half the innings in the country) rather than the quality of pitches - **most of the top teams are clustered around at 32-34 average** and the smaller teams tend to fall under that.\n",
    "#### 3.5.2 Batting averages of teams by home and away\n",
    "Another approach we can use to seperate the impact of home ground conditions on batting stats is to look at the home and away stats seperately. Let us do that briefly for the top teams - once again, not seperating by time periods. <br><br>\n",
    "Here we are **considering all matches not in home country as away matches**. In cricketing nomenclature, away matches are only those matches that are home matches for the opposition - the rest are considered neutral. But, for the current use case, where we are looking at whether home ground conditions mask the true batting quality, it makes sense to consider all other matches as away matches. "
   ]
  },
  {
   "cell_type": "code",
   "execution_count": null,
   "metadata": {},
   "outputs": [],
   "source": [
    "home_away_df = full_df.copy()\n",
    "\n",
    "# keep row only of last ball in each innings\n",
    "home_away_df['last_ball_no'] = home_away_df.groupby(['match_id','innings'], sort = False)['ball_no'].transform(max)\n",
    "home_away_df = home_away_df[(home_away_df['ball_no'] == home_away_df['last_ball_no'])]\n",
    "\n",
    "# add split column and remove unnecessary columns\n",
    "home_away_df = pd.merge(left = home_away_df, right = matches_df[['match_id', 'ground_country']], how = 'left', \n",
    "                        left_on = 'match_id', right_on = 'match_id')\n",
    "home_away_df = home_away_df.loc[:, ['batting_team', 'runs_cume', 'wickets_cume', 'ground_country']]\n",
    "home_away_df['home_match'] = home_away_df['batting_team'] == home_away_df['ground_country']\n",
    "\n",
    "# aggregate, find average and run_rate averages\n",
    "home_away_df = home_away_df.groupby(['batting_team', 'home_match']).agg({'runs_cume':'sum', 'wickets_cume':'sum'})\n",
    "home_away_df = pd.DataFrame(home_away_df.to_records())\n",
    "home_away_df['average'] = home_away_df['runs_cume'] / home_away_df['wickets_cume']\n",
    "\n",
    "# manually adding away row for AFG who have had no home matches\n",
    "row = pd.DataFrame({'batting_team': 'Afghanistan', 'home_match': True}, index = [1])\n",
    "home_away_df = pd.concat([home_away_df.iloc[:1], row, \n",
    "                          home_away_df.iloc[1:]], sort = False).reset_index(drop = True)\n",
    "\n",
    "# merge with aux data\n",
    "teams_df = pd.read_csv('teams.csv')\n",
    "home_away_df = pd.merge(left = home_away_df, right = teams_df, how = 'left', \n",
    "                        left_on = 'batting_team', right_on = 'team')\n",
    "\n",
    "home_away_df['average'] = home_away_df['average'].round(2)\n",
    "\n",
    "home_away_df.head()"
   ]
  },
  {
   "cell_type": "code",
   "execution_count": null,
   "metadata": {},
   "outputs": [],
   "source": [
    "fig = go.Figure()\n",
    "\n",
    "fig.add_trace(go.Bar(\n",
    "    x = home_away_df.loc[home_away_df['home_match'] == True, 'abbr'],\n",
    "    y = home_away_df.loc[home_away_df['home_match'] == True, 'average'],\n",
    "    text = home_away_df.loc[home_away_df['home_match'] == True, 'average'],\n",
    "    textposition = 'inside',\n",
    "    textfont = dict(color = 'white'),\n",
    "    textangle = 270,\n",
    "    name = 'Home',\n",
    "    marker_color = \"#bbeebb\",\n",
    "    width = 0.35\n",
    "))\n",
    "fig.add_trace(go.Bar(\n",
    "    x = home_away_df.loc[home_away_df['home_match'] == False, 'abbr'],\n",
    "    y = home_away_df.loc[home_away_df['home_match'] == False, 'average'],\n",
    "    text = home_away_df.loc[home_away_df['home_match'] == False, 'average'],\n",
    "    textposition = 'inside',\n",
    "    textfont = dict(color = 'white'),\n",
    "    textangle = 270,\n",
    "    name = 'Away',\n",
    "    marker_color = \"#ff9090\",\n",
    "    width = 0.35\n",
    "))\n",
    "\n",
    "fig.update_layout(barmode = 'group', template = \"plotly_white\", title = \"Batting Average - Home and Away\", \n",
    "                  bargap = 0.25, yaxis = dict(title = \"Batting Average\"))\n",
    "\n",
    "fig.show()"
   ]
  },
  {
   "cell_type": "markdown",
   "metadata": {},
   "source": [
    "Not a lot to learn from here either - apart from that most teams do much better at home than away. Ireland is the only team to buck the trend. \n",
    "### 3.6 Bowling average and economy rate\n",
    "Now, similar to batting stats, let us look at the bowling stats to see which teams have had strong bowling lineups over the years."
   ]
  },
  {
   "cell_type": "code",
   "execution_count": null,
   "metadata": {},
   "outputs": [],
   "source": [
    "bowling_df = full_df.copy()\n",
    "\n",
    "# keep row only of last ball in each innings\n",
    "bowling_df['last_ball_no'] = bowling_df.groupby(['match_id','innings'], sort = False)['ball_no'].transform(max)\n",
    "bowling_df = bowling_df[(bowling_df['ball_no'] == bowling_df['last_ball_no'])]\n",
    "\n",
    "# add split column and remove unnecessary columns\n",
    "bowling_df = pd.merge(left = bowling_df, right = matches_df[['match_id', 'split', 'team_1', 'team_2']], \n",
    "                      how = 'left', left_on = 'match_id', right_on = 'match_id')\n",
    "bowling_df = bowling_df.loc[:, ['split', 'match_id', 'batting_team', 'team_1', 'team_2', \n",
    "                                'ball_no', 'runs_cume', 'wickets_cume']]\n",
    "\n",
    "# find bowling team\n",
    "bowling_df['bowling_team'] = np.where((bowling_df['batting_team'] == bowling_df['team_1']), \n",
    "                                      bowling_df['team_2'], bowling_df['team_1'])\n",
    "\n",
    "# aggregate, find average and run_rate averages\n",
    "bowling_by_period_df = bowling_df.groupby(['split', 'bowling_team']).agg({'ball_no':'sum',\n",
    "                                                                          'runs_cume':'sum', \n",
    "                                                                          'wickets_cume':'sum'})\n",
    "bowling_by_period_df = pd.DataFrame(bowling_by_period_df.to_records())\n",
    "bowling_by_period_df['average'] = bowling_by_period_df['runs_cume'] / bowling_by_period_df['wickets_cume']\n",
    "bowling_by_period_df['econ_rate'] = bowling_by_period_df['runs_cume'] / bowling_by_period_df['ball_no'] * 6\n",
    "\n",
    "# manually adding rows for Afghanistan\n",
    "row = pd.DataFrame({'split': 'WC03-WC07', 'bowling_team': 'Afghanistan'}, index = [0])\n",
    "bowling_by_period_df = pd.concat([row, bowling_by_period_df.iloc[0:]], sort = False).reset_index(drop = True)\n",
    "row = pd.DataFrame({'split': 'WC07-WC11', 'bowling_team': 'Afghanistan'}, index = [12])\n",
    "bowling_by_period_df = pd.concat([bowling_by_period_df.iloc[:12], row, \n",
    "                                  bowling_by_period_df.iloc[12:]], sort = False).reset_index(drop = True)\n",
    "\n",
    "# merge with aux data\n",
    "teams_df = pd.read_csv('teams.csv')\n",
    "bowling_by_period_df = pd.merge(left = bowling_by_period_df, right = teams_df, how = 'left', \n",
    "                                left_on = 'bowling_team', right_on = 'team')\n",
    "\n",
    "bowling_by_period_df.head()"
   ]
  },
  {
   "cell_type": "code",
   "execution_count": null,
   "metadata": {},
   "outputs": [],
   "source": [
    "# Create figure with secondary y-axis\n",
    "fig = make_subplots(specs = [[{\"secondary_y\": True}]])\n",
    "period_list = bowling_by_period_df['split'].unique().tolist()\n",
    "\n",
    "# loop through the four periods\n",
    "for i in range(0, 4):\n",
    "    df = bowling_by_period_df[bowling_by_period_df['split'] == period_list[i]]\n",
    "    \n",
    "    # line plot for run rate\n",
    "    fig.add_trace(go.Bar(\n",
    "        x = df['abbr'],\n",
    "        y = df['average'],\n",
    "        name = \"Average\", width = 0.5, marker = dict(color = \"#ff9090\"),\n",
    "        visible = True if i == 0 else False\n",
    "    ), secondary_y = False)\n",
    "    \n",
    "    # bar plot for runs in over\n",
    "    fig.add_trace(go.Scatter(\n",
    "        x = df['abbr'],\n",
    "        y = df['econ_rate'],\n",
    "        name = \"Economy Rate\", mode = 'markers', marker = dict(size = 20, color = \"#ff2828\"),\n",
    "        visible = True if i == 0 else False\n",
    "    ), secondary_y = True)\n",
    "\n",
    "# set up buttons\n",
    "updatemenus = list([\n",
    "    dict(active = 0,                           # WC03-WC07 is active\n",
    "         type = \"buttons\", \n",
    "         direction = \"down\", \n",
    "         showactive = True,\n",
    "         buttons = list([\n",
    "            dict(label = \"WC03-WC07\", method = \"update\",\n",
    "                 args = [{\"visible\": [True, True, False, False, False, False, False, False]}]),\n",
    "            dict(label = \"WC07-WC11\", method = \"update\",\n",
    "                 args = [{\"visible\": [False, False, True, True, False, False, False, False]}]),\n",
    "            dict(label = \"WC11-WC15\", method = \"update\",\n",
    "                 args = [{\"visible\": [False, False, False, False, True, True, False, False]}]),\n",
    "            dict(label = \"WC15-WC19\", method = \"update\",\n",
    "                 args = [{\"visible\": [False, False, False, False, False, False, True, True]}])\n",
    "        ]),\n",
    "    )\n",
    "])\n",
    "\n",
    "fig.update_layout(template = \"plotly_white\", updatemenus = updatemenus, hovermode = 'x', \n",
    "                  title = \"Average and Run Rate by Batting Team\")\n",
    "\n",
    "fig.update_yaxes(title_text = \"Average\", range = [0, 60], showgrid = False, secondary_y = False)\n",
    "fig.update_yaxes(title_text = \"Economy Rate\",  range = [0, 7], showgrid = False, secondary_y = True)\n",
    "\n",
    "fig.show()"
   ]
  },
  {
   "cell_type": "markdown",
   "metadata": {},
   "source": [
    "Once again, the previous caveat of pitches remain. Further, note that here lower average and economy rates are good. <br><br>\n",
    "**WC03-WC07:** Similar to the batting analysis, here as well Australia shines. But, they are not alone - South Africa is also doing just as well or even better in the bowling department. Among the top teams, England have the poorest bowling average as well as economy rate. Unlike the batting case, there is no big divide between any of the top eight teams and the others except for Zimbabwe. <br><br>\n",
    "**WC07-WC11:** Sri Lanka has joined Austalia and South Africa as one of the better bowling sides. Again, no big difference between the top teams and the others, particularly in economy rates.<br><br>\n",
    "**WC11-WC15:** Here we see a large gap between Ireland and Zimbabwe and the rest. Even Afghanistan, a completely new side, is bowling at a higher level than them. South Africa has distanced themselves from the rest with a much better average while Pakistan has the best economy rate. They are the only team who conceded lesser than 5 runs an over. <br><br>\n",
    "**WC15-WC19:** And now, Pakistan is one of the poorest performers, both in average and economy rate. Only Sri Lanka is behind them in either category. Sri Lanka, similar to their batting stats, have slipped up since 2015. The best bowling team by far is Afghanistan with the lowest average as well as economy rate and is the only side conceding lesser than 5 runs an over. Though Afghanistan does have quality bowlers, their stats probably has more to do with their oppositions than their bowling prowess. Afghanistan has been playing lower ranked teams for the most part during this period. <br><br>\n",
    "### 3.7 Batting and bowling together"
   ]
  },
  {
   "cell_type": "code",
   "execution_count": null,
   "metadata": {},
   "outputs": [],
   "source": [
    "bowling_df = bowling_by_period_df[['team', 'abbr', 'split', 'average']]\n",
    "batting_df = team_wise_by_period_df[['team', 'abbr', 'split', 'average']]\n",
    "\n",
    "# remove no results and find loser for each match\n",
    "win_lose_df = matches_df[matches_df['match_winner'] != 'No Result'].copy()\n",
    "win_lose_df['match_loser'] = np.where(win_lose_df['team_1'] == win_lose_df['match_winner'], \n",
    "                                      win_lose_df['team_2'], win_lose_df['team_1'])\n",
    "\n",
    "# aggregate to get number of wins and loses for each team\n",
    "win_df = win_lose_df.groupby(['split', 'match_winner']).agg({'match_id':'count'})\n",
    "lose_df = win_lose_df.groupby(['split', 'match_loser']).agg({'match_id':'count'})\n",
    "win_df = pd.DataFrame(win_df.to_records())\n",
    "lose_df = pd.DataFrame(lose_df.to_records())\n",
    "\n",
    "# merge wins and loses data\n",
    "win_lose_df = pd.merge(left = win_df, right = lose_df, how = 'left', \n",
    "                       left_on = ['split', 'match_winner'], right_on = ['split', 'match_loser'])\n",
    "win_lose_df.drop(['match_loser'], axis = 1, inplace = True)\n",
    "win_lose_df.rename(columns = {'match_winner': 'team', 'match_id_x': 'wins', 'match_id_y': 'loses'}, inplace = True)\n",
    "win_lose_df['win_ratio'] = (win_lose_df['wins'] / win_lose_df['loses']).round(2)\n",
    "\n",
    "# merge with batting and bowling averages\n",
    "win_lose_df = pd.merge(left = win_lose_df, right = batting_df, how = 'left', \n",
    "                       left_on = ['split', 'team'], right_on = ['split', 'team'])\n",
    "win_lose_df = pd.merge(left = win_lose_df, right = bowling_df, how = 'left', \n",
    "                       left_on = ['split', 'team'], right_on = ['split', 'team'])\n",
    "\n",
    "# clean up dataframe structure\n",
    "win_lose_df.drop(['wins', 'loses', 'abbr_y'], axis = 1, inplace = True)\n",
    "win_lose_df.rename(columns = {'abbr_x': 'abbr', \n",
    "                              'average_x': 'batting_average', \n",
    "                              'average_y': 'bowling_average'}, \n",
    "                   inplace = True)\n",
    "win_lose_df['batting_average'] = win_lose_df['batting_average'].round(2)\n",
    "win_lose_df['bowling_average'] = win_lose_df['bowling_average'].round(2)\n",
    "\n",
    "win_lose_df.head()"
   ]
  },
  {
   "cell_type": "code",
   "execution_count": null,
   "metadata": {},
   "outputs": [],
   "source": [
    "fig = go.Figure()\n",
    "period_list = win_lose_df['split'].unique().tolist()\n",
    "\n",
    "# loop through the four periods\n",
    "for i in range(0, 4):\n",
    "    df = win_lose_df[win_lose_df['split'] == period_list[i]]\n",
    "    \n",
    "    # bar plot for runs in over\n",
    "    fig.add_trace(go.Scatter(\n",
    "        x = df['bowling_average'],\n",
    "        y = df['batting_average'], \n",
    "        text = df['abbr'],\n",
    "        textposition = 'top center',\n",
    "        name = 'Imp Stats', \n",
    "        mode = 'markers+text', \n",
    "        hovertext = df['win_ratio'],\n",
    "        hovertemplate = 'Win Ratio: %{hovertext}<br>Batting Avg: %{y}<br>Bowling Avg: %{x}',\n",
    "        marker = dict(color = df['win_ratio'], size = 20, colorscale = 'Blues', \n",
    "                      colorbar = dict(thickness = 30, title = 'Win Ratio'), cmax = 2.5, cmin = 0),\n",
    "        visible = True if i == 0 else False))\n",
    "\n",
    "# set up buttons\n",
    "updatemenus = list([\n",
    "    dict(active = 0,                           # WC03-WC07 is active\n",
    "         type = \"buttons\", \n",
    "         direction = \"down\", \n",
    "         x = 0.86,\n",
    "         xanchor = \"left\",\n",
    "         y = 1.0,\n",
    "         yanchor = \"top\",\n",
    "         showactive = True,\n",
    "         buttons = list([\n",
    "            dict(label = \"WC03-WC07\", method = \"update\",\n",
    "                 args = [{\"visible\": [True, False, False, False]}]),\n",
    "            dict(label = \"WC07-WC11\", method = \"update\",\n",
    "                 args = [{\"visible\": [False, True, False, False]}]),\n",
    "            dict(label = \"WC11-WC15\", method = \"update\",\n",
    "                 args = [{\"visible\": [False, False, True, False]}]),\n",
    "            dict(label = \"WC15-WC19\", method = \"update\",\n",
    "                 args = [{\"visible\": [False, False, False, True]}])\n",
    "        ]),\n",
    "    )\n",
    "])\n",
    "\n",
    "fig.update_xaxes(range = [25, 45], title = 'Bowling Average')\n",
    "fig.update_yaxes(range = [15, 45], title = 'Batting Average')\n",
    "fig.update_layout(template = \"plotly_white\", updatemenus = updatemenus, \n",
    "                  margin = dict(t = 100, b = 0, l = 0, r = 0),\n",
    "                  title = \"Bowling and Batting Averages with Win Ratio\")\n",
    "\n",
    "fig.show()"
   ]
  },
  {
   "cell_type": "markdown",
   "metadata": {},
   "source": [
    "The above shows scatter plots of teams according to batting and bowling averages. Top left corner is the ideal place to be with high batting average and low bowling average. Win ratio (i.e. number of wins per loss) is represented with colour. Mostly, top left corner does correlate well with higher win ratios. Also note that seeing run rate and economy rate also represented would provide a more complete picture than above.<br><br>\n",
    "**WC03-WC07:** Australia was dominant in this period, followed by South Africa and Sri Lanka - at a distance. Australia's win ratio in this period is the highest any team has achieved within the scope of this analysis. England is some way behind with Bangladesh also having a better win ratio than England. Looks like their poor bowling performance was really hurting them. <br><br>\n",
    "**WC07-WC11:** Again, Australia and South Africa are the leaders, but India also seems to be doing pretty well with the win ratio despite their weak bowling showing - their average is worst among the top eight teams. West Indies has started slipping to the bottom of the top eight pack. Ireland has only won one match for every 10 they have lost - the poorest return for any team across the four periods. <br><br>\n",
    "**WC11-WC15:** There is no team with a win ratio over 2. This is the only such period among the four. Despite having the best bowling average (by a distance) and almost the best batting average, South Africa has won a smaller proportion of their matches than India and Australia. Once again, India's strong batting lineup is winning them matches despite a relatively weaker bowling performance. Sri Lanka is still slipping from when they were one of the top teams. <br><br>\n",
    "**WC15-WC19:** Here there is much less correlation between top left and higher win ratios. England's strong batting (whose strength is not adequately represented here without a comparison of their run rate) is helping them win a lot more despite comparitively poorer bowling. It is interesting to see Pakistan towards the top right of the chart. The Pakistani team is usually associated with strong bowling and inconsistant batting. There are two clear clusters forming here (discounting Afghanistan) - teams that win more often than they lose and teams that lose more often than they win. And Bangladesh has put themselves firmly in the former - really great for a team that was still far from the top eight a little more than a decade ago. <br><br>\n",
    "Couple more things that can be seen - the World Cup winners (Australia in 2007 & 2015, India in 2011 and England in 2019) were one of the top performing teams by win ratio. India in 2011 was the only slight exception to this. It is good that the **World Cups have been able to find the better teams of each period** despite condensing four years worth of cricket to little over a month. Similarly the runners up in 2007, 2011 and 2015 have been in the top three (Sri Lanka, Sri Lanka and New Zealand respectively) but in 2019, the runner up New Zealand was placed towards the middle of the pack. <br><br>\n",
    "Another important trend to notice was how win ratio correlated strongly with the top left corner in the earlier periods, but has done so lesser and lesser later on. In WC07-WC11, India shows a better win ratio than teams like Sri Lanka, New Zealand, England etc. Similarly in WC11-WC15, India and Australia return better win ratios than South Africa who has a much better bowling average. In WC15-WC19, bowling average seems much less important than ever before. This trend is a strong indicator that **how well a team bowls is becoming lesser of a factor in determining how often they win** as compared to how well a team bats. It is disappointing that cricket is becoming less about bat vs ball. \n",
    "### 3.8 Toss to results\n",
    "Let us also take a quick, almost superficial, look at if winning the toss is getting more advantageous or not over the years. We do not even need to look at the ball-by-ball dataset for this - just the matches data."
   ]
  },
  {
   "cell_type": "code",
   "execution_count": null,
   "metadata": {},
   "outputs": [],
   "source": [
    "toss_decision_df = pd.DataFrame(matches_df.groupby([matches_df.split, \n",
    "                                                    matches_df.toss_decision])['match_id'].aggregate('count'))\n",
    "toss_decision_df = pd.DataFrame(toss_decision_df.to_records())\n",
    "\n",
    "toss_decision_df = toss_decision_df.pivot(index = 'split', columns = 'toss_decision', values = 'match_id')\n",
    "toss_decision_df = pd.DataFrame(toss_decision_df.to_records())\n",
    "\n",
    "toss_decision_df"
   ]
  },
  {
   "cell_type": "code",
   "execution_count": null,
   "metadata": {},
   "outputs": [],
   "source": [
    "toss_to_match_df = matches_df.loc[matches_df['match_winner'] != 'No Result', :].copy()\n",
    "toss_to_match_df['toss_to_match'] = np.where(toss_to_match_df['toss_winner'] == toss_to_match_df['match_winner'], \n",
    "                                             'win', 'lose')\n",
    "\n",
    "toss_to_match_df = pd.DataFrame(toss_to_match_df.groupby([toss_to_match_df.split, \n",
    "                                                          toss_to_match_df.toss_to_match])['match_id'].aggregate('count'))\n",
    "toss_to_match_df = pd.DataFrame(toss_to_match_df.to_records())\n",
    "\n",
    "toss_to_match_df = toss_to_match_df.pivot(index = 'split', columns = 'toss_to_match', values = 'match_id')\n",
    "toss_to_match_df = pd.DataFrame(toss_to_match_df.to_records())\n",
    "\n",
    "toss_to_match_df"
   ]
  },
  {
   "cell_type": "code",
   "execution_count": null,
   "metadata": {},
   "outputs": [],
   "source": [
    "labels = ['Bat', 'Field']\n",
    "colors = ['#5aceff', '#bbeebb']\n",
    "count = 0\n",
    "\n",
    "specs = [[{'type':'domain'}, {'type':'domain'}, {'type':'domain'}, {'type':'domain'}]]\n",
    "fig = make_subplots(rows = 1, cols = 4, specs = specs, horizontal_spacing = 0.06, vertical_spacing = 0.0)\n",
    "\n",
    "\n",
    "for index, df_row in toss_decision_df.iterrows():\n",
    "    \n",
    "    values = [df_row['bat'], df_row['field']]\n",
    "\n",
    "    col = count + 1\n",
    "    row = 1\n",
    "\n",
    "    fig.add_trace(go.Pie(labels = labels, values = values, title = df_row.split,\n",
    "                         marker_colors = colors, name = df_row.split, sort = False), \n",
    "                         row = row, col = col)\n",
    "\n",
    "    count = count + 1\n",
    "\n",
    "fig2 = go.Figure(fig)\n",
    "fig2.update_traces(hole = .45)\n",
    "fig2.update_layout(title = \"Decision at Toss\")\n",
    "\n",
    "fig2.show()"
   ]
  },
  {
   "cell_type": "markdown",
   "metadata": {},
   "source": [
    "In the first two periods, captains chose to bat more often than to field. But, after 2011 World Cup, the proportion is getting closer to even."
   ]
  },
  {
   "cell_type": "code",
   "execution_count": null,
   "metadata": {},
   "outputs": [],
   "source": [
    "labels = ['Win', 'Lose']\n",
    "colors = ['#bbeebb', '#ff9090']\n",
    "count = 0\n",
    "\n",
    "specs = [[{'type':'domain'}, {'type':'domain'}, {'type':'domain'}, {'type':'domain'}]]\n",
    "fig = make_subplots(rows = 1, cols = 4, specs = specs, horizontal_spacing = 0.06, vertical_spacing = 0.0)\n",
    "\n",
    "\n",
    "for index, df_row in toss_to_match_df.iterrows():\n",
    "    \n",
    "    values = [df_row['win'], df_row['lose']]\n",
    "\n",
    "    col = count + 1\n",
    "    row = 1\n",
    "\n",
    "    fig.add_trace(go.Pie(labels = labels, values = values, title = df_row.split,\n",
    "                         marker_colors = colors, name = df_row.split, sort = False), \n",
    "                         row = row, col = col)\n",
    "\n",
    "    count = count + 1\n",
    "\n",
    "fig2 = go.Figure(fig)\n",
    "fig2.update_traces(hole = .45)\n",
    "fig2.update_layout(title = \"Wins and Losses after Winning Toss\")\n",
    "\n",
    "fig2.show()"
   ]
  },
  {
   "cell_type": "markdown",
   "metadata": {},
   "source": [
    "Counter-intuitively, it seems that teams lose more matches than they win on winning the toss. It also looks like the proportion is only increasing. But, it's all close enough to even that not a whole lot should be read into this. "
   ]
  },
  {
   "cell_type": "code",
   "execution_count": null,
   "metadata": {},
   "outputs": [],
   "source": []
  },
  {
   "cell_type": "code",
   "execution_count": null,
   "metadata": {},
   "outputs": [],
   "source": []
  },
  {
   "cell_type": "code",
   "execution_count": null,
   "metadata": {},
   "outputs": [],
   "source": []
  },
  {
   "cell_type": "markdown",
   "metadata": {},
   "source": [
    "https://stackoverflow.com/questions/18965026/concatenate-two-dataframes-with-hierarchical-columns<br>\n",
    "https://stackoverflow.com/questions/42095537/pandas-applying-multi-index-labels-in-a-loop<br>\n",
    "https://github.com/pandas-dev/pandas/issues/13597<br>\n",
    "https://stackoverflow.com/questions/52347292/create-a-drop-down-menu-in-plotly - FOR DROPDOWNS <br>\n",
    "https://community.plotly.com/t/plotly-colours-list/11730/3 - FOR COLOURS<br>\n",
    "https://github.com/plotly/plotly.py/issues/931 - DISPLAY PLOTLY ON GITHUB<br>"
   ]
  },
  {
   "cell_type": "code",
   "execution_count": null,
   "metadata": {},
   "outputs": [],
   "source": []
  }
 ],
 "metadata": {
  "kernelspec": {
   "display_name": "Python 3",
   "language": "python",
   "name": "python3"
  },
  "language_info": {
   "codemirror_mode": {
    "name": "ipython",
    "version": 3
   },
   "file_extension": ".py",
   "mimetype": "text/x-python",
   "name": "python",
   "nbconvert_exporter": "python",
   "pygments_lexer": "ipython3",
   "version": "3.7.3"
  }
 },
 "nbformat": 4,
 "nbformat_minor": 2
}
